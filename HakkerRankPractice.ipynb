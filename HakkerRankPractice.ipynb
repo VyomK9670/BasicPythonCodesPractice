{
 "cells": [
  {
   "cell_type": "code",
   "execution_count": null,
   "id": "02e05f39",
   "metadata": {},
   "outputs": [],
   "source": [
    "from collections import OrderedDict\n",
    "N = int(input('Pls enter the number of items : '))\n",
    "nst = []\n",
    "ord_dct = OrderedDict()\n",
    "for i in range (1,N+1) :\n",
    "    string = input('Please inter the Name of item and price  :  ')\n",
    "    lst = string.split()\n",
    "#     print(lst[0],lst[1])\n",
    "    nst.append(lst[0])\n",
    "    ord_dct[lst[0]] =int(lst[1])\n",
    "print(ord_dct)"
   ]
  },
  {
   "cell_type": "code",
   "execution_count": null,
   "id": "1dbacb7b",
   "metadata": {},
   "outputs": [],
   "source": []
  },
  {
   "cell_type": "code",
   "execution_count": null,
   "id": "26d3ba59",
   "metadata": {},
   "outputs": [],
   "source": [
    "Task\n",
    "Given an integer,\n",
    "\n",
    ", perform the following conditional actions:\n",
    "\n",
    "    If \n",
    "\n",
    "is odd, print Weird\n",
    "If\n",
    "is even and in the inclusive range of to\n",
    ", print Not Weird\n",
    "If\n",
    "is even and in the inclusive range of to\n",
    ", print Weird\n",
    "If\n",
    "is even and greater than , print Not Weird"
   ]
  },
  {
   "cell_type": "code",
   "execution_count": null,
   "id": "beb845eb",
   "metadata": {},
   "outputs": [],
   "source": [
    "n = 3"
   ]
  },
  {
   "cell_type": "code",
   "execution_count": null,
   "id": "921ae7d6",
   "metadata": {},
   "outputs": [],
   "source": [
    "lt= []\n",
    "for i in range (n):\n",
    "    for j in range (n):\n",
    "        for k in range (n):\n",
    "            if i+j+k<n:\n",
    "                lt.append([i,j,k])\n",
    "    \n",
    "    "
   ]
  },
  {
   "cell_type": "code",
   "execution_count": null,
   "id": "6c64e98c",
   "metadata": {},
   "outputs": [],
   "source": [
    "lt"
   ]
  },
  {
   "cell_type": "code",
   "execution_count": null,
   "id": "d395393c",
   "metadata": {},
   "outputs": [],
   "source": [
    "x = int(input())\n",
    "y = int(input())\n",
    "z = int(input())\n",
    "n = int(input())\n",
    "lst = []\n",
    "for i in range(x+1) :\n",
    "    for j in range(y+1) :\n",
    "        for k in range(z+1) :\n",
    "            if (i+j+k != n ):\n",
    "                lst.append([i,j,k])\n",
    "print(lst)"
   ]
  },
  {
   "cell_type": "code",
   "execution_count": null,
   "id": "0844efd2",
   "metadata": {},
   "outputs": [],
   "source": [
    "\n",
    "n = 4\n",
    "lst =[]\n",
    "for i in range(1,n+1) :\n",
    "    lst.append(str(i))\n",
    "print(int(''.join(lst)))"
   ]
  },
  {
   "cell_type": "code",
   "execution_count": null,
   "id": "9939c088",
   "metadata": {},
   "outputs": [],
   "source": [
    "lst = []\n",
    "n = int(input())\n",
    "arr = map(int, input().split())\n",
    "for i in arr:\n",
    "    lst.append(i)\n",
    "sorted(list(set(lst)) )[-2]"
   ]
  },
  {
   "cell_type": "code",
   "execution_count": null,
   "id": "23dc1f1f",
   "metadata": {},
   "outputs": [],
   "source": [
    "note = input().rstrip().split()"
   ]
  },
  {
   "cell_type": "markdown",
   "id": "6d9e37e6",
   "metadata": {},
   "source": [
    "An extra day is added to the calendar almost every four years as February 29, and the day is called a leap day. It corrects the calendar for the fact that our planet takes approximately 365.25 days to orbit the sun. A leap year contains a leap day.\n",
    "\n",
    "In the Gregorian calendar, three conditions are used to identify leap years:\n",
    "\n",
    "    The year can be evenly divided by 4, is a leap year, unless:\n",
    "        The year can be evenly divided by 100, it is NOT a leap year, unless:\n",
    "            The year is also evenly divisible by 400. Then it is a leap year.\n",
    "\n",
    "This means that in the Gregorian calendar, the years 2000 and 2400 are leap years, while 1800, 1900, 2100, 2200, 2300 and 2500 are NOT leap years. Source \n",
    "\n"
   ]
  },
  {
   "cell_type": "code",
   "execution_count": null,
   "id": "c6075811",
   "metadata": {},
   "outputs": [],
   "source": [
    "def \n",
    "x = int(input('pls enter the year :  '))\n",
    "lp = False\n",
    "if x%4==0:\n",
    "    lp = True\n",
    "    if x%100 ==0:\n",
    "        lp = False \n",
    "        if x%400 ==0 :\n",
    "            lp = True\n",
    "print(lp)"
   ]
  },
  {
   "cell_type": "code",
   "execution_count": null,
   "id": "42efec66",
   "metadata": {},
   "outputs": [],
   "source": [
    "# , arr, n, k\n",
    "k = 4\n",
    "\n",
    "Z = sorted(list(X))\n",
    "for i in range(len(Z)) :\n",
    "    if Z[i]==k:\n",
    "        x = i\n",
    "    else :\n",
    "        x= -1"
   ]
  },
  {
   "cell_type": "code",
   "execution_count": 41,
   "id": "4486949f",
   "metadata": {},
   "outputs": [],
   "source": [
    "arr = '1 5 2 5 5'\n",
    "X = list(set(map(int,arr.split())))\n",
    "k = 4"
   ]
  },
  {
   "cell_type": "code",
   "execution_count": 42,
   "id": "83699d0e",
   "metadata": {},
   "outputs": [
    {
     "name": "stdout",
     "output_type": "stream",
     "text": [
      "-1\n"
     ]
    }
   ],
   "source": [
    "if k in X:\n",
    "    print(X.index(k))\n",
    "else :\n",
    "    print(-1)\n",
    "#     if i ==k:\n",
    "#         m = X.index(i)\n",
    "#     elif i !=k:\n",
    "#         m = -1\n",
    "# m"
   ]
  },
  {
   "cell_type": "code",
   "execution_count": 28,
   "id": "551e6a80",
   "metadata": {},
   "outputs": [
    {
     "data": {
      "text/plain": [
       "-1"
      ]
     },
     "execution_count": 28,
     "metadata": {},
     "output_type": "execute_result"
    }
   ],
   "source": [
    "in"
   ]
  },
  {
   "cell_type": "code",
   "execution_count": 1,
   "id": "8d613d29",
   "metadata": {},
   "outputs": [],
   "source": [
    "s1 = 'ABCDCDC'\n",
    "s2 = 'CDC'"
   ]
  },
  {
   "cell_type": "code",
   "execution_count": 2,
   "id": "6a9c9961",
   "metadata": {},
   "outputs": [
    {
     "name": "stdout",
     "output_type": "stream",
     "text": [
      "CDC\n"
     ]
    }
   ],
   "source": [
    "if s2 in s1:\n",
    "    print(s2)"
   ]
  },
  {
   "cell_type": "code",
   "execution_count": 3,
   "id": "ddec9054",
   "metadata": {},
   "outputs": [
    {
     "name": "stdout",
     "output_type": "stream",
     "text": [
      "7\n"
     ]
    }
   ],
   "source": [
    "i=0\n",
    "for s2 in s1 :\n",
    "    i+=1\n",
    "print(i)"
   ]
  },
  {
   "cell_type": "code",
   "execution_count": 8,
   "id": "ec907cfc",
   "metadata": {},
   "outputs": [
    {
     "name": "stdout",
     "output_type": "stream",
     "text": [
      "No\n",
      "No\n",
      "No\n",
      "No\n",
      "No\n",
      "No\n",
      "No\n"
     ]
    }
   ],
   "source": [
    "for i in s1:\n",
    "    if s1==i :\n",
    "        print(s1)\n",
    "    else:\n",
    "        print('No')"
   ]
  },
  {
   "cell_type": "code",
   "execution_count": 10,
   "id": "eaa3f7e6",
   "metadata": {},
   "outputs": [
    {
     "name": "stdout",
     "output_type": "stream",
     "text": [
      "Error Code: division by zero\n"
     ]
    }
   ],
   "source": [
    "#Code\n",
    "try:\n",
    "    print(1/0)\n",
    "except ZeroDivisionError as e:\n",
    "    print(\"Error Code:\",e)"
   ]
  },
  {
   "cell_type": "code",
   "execution_count": null,
   "id": "d8a4c1de",
   "metadata": {},
   "outputs": [],
   "source": []
  },
  {
   "cell_type": "code",
   "execution_count": null,
   "id": "2df3ad0f",
   "metadata": {},
   "outputs": [],
   "source": []
  }
 ],
 "metadata": {
  "kernelspec": {
   "display_name": "Python 3 (ipykernel)",
   "language": "python",
   "name": "python3"
  },
  "language_info": {
   "codemirror_mode": {
    "name": "ipython",
    "version": 3
   },
   "file_extension": ".py",
   "mimetype": "text/x-python",
   "name": "python",
   "nbconvert_exporter": "python",
   "pygments_lexer": "ipython3",
   "version": "3.10.2"
  }
 },
 "nbformat": 4,
 "nbformat_minor": 5
}
