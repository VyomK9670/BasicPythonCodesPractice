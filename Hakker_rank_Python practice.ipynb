{
 "cells": [
  {
   "cell_type": "code",
   "execution_count": 3,
   "id": "46c597ec",
   "metadata": {},
   "outputs": [],
   "source": [
    "import numpy as np\n",
    "import pandas as pd\n"
   ]
  },
  {
   "cell_type": "code",
   "execution_count": 41,
   "id": "30244e23",
   "metadata": {},
   "outputs": [
    {
     "name": "stdout",
     "output_type": "stream",
     "text": [
      "[1, 0, 0]\n",
      "[1, 0, 0]\n",
      "[2, 0, 0]\n",
      "[2, 1, 0]\n",
      "[2, 1, 0]\n",
      "[2, 2, 0]\n",
      "[2, 2, 1]\n",
      "[2, 2, 1]\n",
      "[2, 2, 2]\n"
     ]
    }
   ],
   "source": [
    "lt1 = [1 ,1, 2]\n",
    "lt2 = [0 ,0, 0]\n",
    "for j in range (len(lt2)):\n",
    "    for i in range (len(lt1)):\n",
    "        lt2[j] = lt1[i]\n",
    "        print(lt2)"
   ]
  },
  {
   "cell_type": "code",
   "execution_count": 55,
   "id": "42719419",
   "metadata": {},
   "outputs": [
    {
     "name": "stdout",
     "output_type": "stream",
     "text": [
      "[[0, 0, 0], [0, 0, 2], [0, 1, 1], [0, 1, 2], [1, 0, 1], [1, 0, 2], [1, 1, 0], [1, 1, 1], [1, 1, 2]]\n"
     ]
    }
   ],
   "source": [
    "x=1\n",
    "y=1\n",
    "z=2\n",
    "n =1\n",
    "ans = [[i, j, k]\n",
    "       for i in range(x + 1)\n",
    "           for j in range(y + 1)\n",
    "               for k in range(z + 1)\n",
    "                    if i + j + k != n]\n",
    "print (ans)"
   ]
  },
  {
   "cell_type": "code",
   "execution_count": null,
   "id": "f87a27e1",
   "metadata": {},
   "outputs": [],
   "source": [
    "# Given list is [5,6,7,8,9,10] The maximum score is 10, second maximum is 9. Hence, we print as the runner-up score. \n"
   ]
  },
  {
   "cell_type": "code",
   "execution_count": 64,
   "id": "ac44e749",
   "metadata": {},
   "outputs": [
    {
     "name": "stdout",
     "output_type": "stream",
     "text": [
      "5\n"
     ]
    }
   ],
   "source": [
    "lt = [2,3,6,6,5]\n",
    "lt1=[]\n",
    "for i in (lt):\n",
    "    if i!=max(lt):\n",
    "        lt1.append(i)\n",
    "print(max(lt1))"
   ]
  },
  {
   "cell_type": "code",
   "execution_count": 60,
   "id": "a4b737f6",
   "metadata": {},
   "outputs": [
    {
     "data": {
      "text/plain": [
       "[5, 6, 7, 8, 9]"
      ]
     },
     "execution_count": 60,
     "metadata": {},
     "output_type": "execute_result"
    }
   ],
   "source": [
    "lt1"
   ]
  },
  {
   "cell_type": "code",
   "execution_count": 96,
   "id": "b8344569",
   "metadata": {},
   "outputs": [
    {
     "name": "stdout",
     "output_type": "stream",
     "text": [
      "6\n"
     ]
    }
   ],
   "source": [
    "lt = [2,3,6,6,5]\n",
    "lt.sort()\n",
    "lt1 =[]\n",
    "for i in range (len(lt)):\n",
    "    lt1.append(lt[i])\n",
    "print(lt1[-2])"
   ]
  },
  {
   "cell_type": "code",
   "execution_count": 90,
   "id": "9d194ae3",
   "metadata": {},
   "outputs": [
    {
     "data": {
      "text/plain": [
       "[2, 3, 5, 6, 6]"
      ]
     },
     "execution_count": 90,
     "metadata": {},
     "output_type": "execute_result"
    }
   ],
   "source": [
    "lt"
   ]
  },
  {
   "cell_type": "code",
   "execution_count": 19,
   "id": "9a9de304",
   "metadata": {},
   "outputs": [
    {
     "ename": "TypeError",
     "evalue": "'int' object is not subscriptable",
     "output_type": "error",
     "traceback": [
      "\u001b[1;31m---------------------------------------------------------------------------\u001b[0m",
      "\u001b[1;31mTypeError\u001b[0m                                 Traceback (most recent call last)",
      "Input \u001b[1;32mIn [19]\u001b[0m, in \u001b[0;36m<cell line: 5>\u001b[1;34m()\u001b[0m\n\u001b[0;32m      3\u001b[0m lt \u001b[38;5;241m=\u001b[39m \u001b[38;5;28mlist\u001b[39m(lt)\n\u001b[0;32m      4\u001b[0m lt \u001b[38;5;241m=\u001b[39m \u001b[38;5;28mmax\u001b[39m(lt)\n\u001b[1;32m----> 5\u001b[0m \u001b[38;5;28mprint\u001b[39m(\u001b[38;5;28mint\u001b[39m(\u001b[43mlt\u001b[49m\u001b[43m[\u001b[49m\u001b[38;5;241;43m-\u001b[39;49m\u001b[38;5;241;43m2\u001b[39;49m\u001b[43m]\u001b[49m))\n",
      "\u001b[1;31mTypeError\u001b[0m: 'int' object is not subscriptable"
     ]
    }
   ],
   "source": [
    "lt = [2,3,2,5,6,7,8,9,6,4,5,8,9,6,6,6,5]\n",
    "lt = set(lt)\n",
    "lt = list(lt)\n",
    "lt = max(lt)\n",
    "print(int(lt[-2]))"
   ]
  },
  {
   "cell_type": "code",
   "execution_count": null,
   "id": "7e506fac",
   "metadata": {},
   "outputs": [],
   "source": [
    "if __name__ == '__main__':\n",
    "    n = int(input())\n",
    "    arr = map(int, input().split())\n",
    "    arr = set(arr)\n",
    "    arr = list(arr)\n",
    "    max(arr)"
   ]
  },
  {
   "cell_type": "code",
   "execution_count": null,
   "id": "9b8953d7",
   "metadata": {},
   "outputs": [],
   "source": []
  },
  {
   "cell_type": "code",
   "execution_count": null,
   "id": "88c63bd9",
   "metadata": {},
   "outputs": [],
   "source": []
  },
  {
   "cell_type": "code",
   "execution_count": null,
   "id": "f16547df",
   "metadata": {},
   "outputs": [],
   "source": [
    "arr = [1]\n",
    "arr = list(set(arr))[-2]\n",
    "arr"
   ]
  },
  {
   "cell_type": "code",
   "execution_count": 6,
   "id": "6d9da4dd",
   "metadata": {},
   "outputs": [
    {
     "name": "stdout",
     "output_type": "stream",
     "text": [
      "1\n"
     ]
    }
   ],
   "source": [
    "arr = [1,5]#[1,2,5,6,7,8,4,6,4,7,5,5]\n",
    "if len(arr) >= 2:\n",
    "    print(list(set(arr))[-2])\n",
    "else:\n",
    "    print(max(arr))\n",
    "\n"
   ]
  },
  {
   "cell_type": "code",
   "execution_count": 8,
   "id": "509528d5",
   "metadata": {},
   "outputs": [
    {
     "name": "stdout",
     "output_type": "stream",
     "text": [
      "8\n",
      "None\n"
     ]
    }
   ],
   "source": [
    "arr= [1,5,1,6,4,8,9,7,5]\n",
    "print(print(sorted(list(set(arr)))[-2]))"
   ]
  },
  {
   "cell_type": "code",
   "execution_count": 14,
   "id": "c98215a7",
   "metadata": {},
   "outputs": [
    {
     "name": "stdout",
     "output_type": "stream",
     "text": [
      "8\n"
     ]
    }
   ],
   "source": [
    "    if len(arr) >= 2:\n",
    "    \n",
    "        print(list(set(arr))[-2])\n",
    "    else:\n",
    "        print(max(arr))"
   ]
  },
  {
   "cell_type": "code",
   "execution_count": 50,
   "id": "7cadf73a",
   "metadata": {},
   "outputs": [
    {
     "ename": "TypeError",
     "evalue": "dict.keys() takes no arguments (1 given)",
     "output_type": "error",
     "traceback": [
      "\u001b[1;31m---------------------------------------------------------------------------\u001b[0m",
      "\u001b[1;31mTypeError\u001b[0m                                 Traceback (most recent call last)",
      "Input \u001b[1;32mIn [50]\u001b[0m, in \u001b[0;36m<cell line: 10>\u001b[1;34m()\u001b[0m\n\u001b[0;32m     10\u001b[0m \u001b[38;5;28;01mfor\u001b[39;00m i \u001b[38;5;129;01min\u001b[39;00m lt_values:\n\u001b[0;32m     11\u001b[0m     \u001b[38;5;28;01mif\u001b[39;00m i \u001b[38;5;241m==\u001b[39m lst_min:\n\u001b[1;32m---> 12\u001b[0m         \u001b[38;5;28mprint\u001b[39m(\u001b[43mlt_dict\u001b[49m\u001b[38;5;241;43m.\u001b[39;49m\u001b[43mkeys\u001b[49m\u001b[43m(\u001b[49m\u001b[43mi\u001b[49m\u001b[43m)\u001b[49m)\n",
      "\u001b[1;31mTypeError\u001b[0m: dict.keys() takes no arguments (1 given)"
     ]
    }
   ],
   "source": [
    "lt = [['Harry',37.21],['Berry',37.21],['Tina',37.2],['Akriti',41],['Harsh',39]]\n",
    "\n",
    "lt_dict   = dict(lt)\n",
    "lt_key    = list(lt_dict.keys())\n",
    "lt_values = list(lt_dict.values())\n",
    "\n",
    "lst_min   = sorted(set(lt_values))[1]\n",
    "\n",
    "# print(lst_num[1])\n",
    "for i in lt_values:\n",
    "    if i == lst_min:\n",
    "        print(lt_dict.keys(i))"
   ]
  },
  {
   "cell_type": "markdown",
   "id": "a32af621",
   "metadata": {},
   "source": [
    "#### Parctice set 2"
   ]
  },
  {
   "cell_type": "code",
   "execution_count": 2,
   "id": "529891b6",
   "metadata": {},
   "outputs": [
    {
     "ename": "AttributeError",
     "evalue": "'str' object has no attribute 'slice'",
     "output_type": "error",
     "traceback": [
      "\u001b[1;31m---------------------------------------------------------------------------\u001b[0m",
      "\u001b[1;31mAttributeError\u001b[0m                            Traceback (most recent call last)",
      "Input \u001b[1;32mIn [2]\u001b[0m, in \u001b[0;36m<module>\u001b[1;34m\u001b[0m\n\u001b[0;32m      1\u001b[0m \u001b[38;5;28mstr\u001b[39m \u001b[38;5;241m=\u001b[39m \u001b[38;5;124m'\u001b[39m\u001b[38;5;124mWrite Python 3 code in this online\u001b[39m\u001b[38;5;124m'\u001b[39m\n\u001b[1;32m----> 2\u001b[0m \u001b[38;5;28mprint\u001b[39m(\u001b[38;5;28;43mstr\u001b[39;49m\u001b[38;5;241;43m.\u001b[39;49m\u001b[43mslice\u001b[49m(\u001b[38;5;124m'\u001b[39m\u001b[38;5;124m \u001b[39m\u001b[38;5;124m'\u001b[39m)\u001b[38;5;241m.\u001b[39mreverse())\n",
      "\u001b[1;31mAttributeError\u001b[0m: 'str' object has no attribute 'slice'"
     ]
    }
   ],
   "source": [
    "str = 'Write Python 3 code in this online'\n",
    "print(str.slice(' ').reverse())"
   ]
  },
  {
   "cell_type": "code",
   "execution_count": 31,
   "id": "b743f6ac",
   "metadata": {},
   "outputs": [
    {
     "name": "stdout",
     "output_type": "stream",
     "text": [
      "['Write', 'Python', '3', 'code', 'in', 'this', 'online']\n",
      "['online', 'this', 'in', 'code', '3', 'Python', 'Write']\n"
     ]
    }
   ],
   "source": [
    "a = 'Write Python 3 code in this online'\n",
    "AA= a.split()\n",
    "print(AA)\n",
    "print(AA[::-1])"
   ]
  },
  {
   "cell_type": "code",
   "execution_count": 131,
   "id": "71c7ff30",
   "metadata": {},
   "outputs": [
    {
     "name": "stdout",
     "output_type": "stream",
     "text": [
      "{'Harry': 37.21, 'Berry': 37.21, 'Tina': 37.2, 'Akriti': 41, 'Harsh': 39}\n",
      "['Harry', 'Berry', 'Tina', 'Akriti', 'Harsh']\n",
      "[37.21, 37.21, 37.2, 41, 39]\n",
      "Harry\n",
      "Harry\n"
     ]
    }
   ],
   "source": [
    "lst= [['Harry',37.21],['Berry',37.21],['Tina',37.2],['Akriti' ,41],['Harsh',39 ] ]\n",
    "\n",
    "\n",
    "lst_dct= dict(lst)\n",
    "\n",
    "print(lst_dct)\n",
    "lst_key = list(lst_dct.keys())\n",
    "print(lst_key)\n",
    "\n",
    "lst_valu =list(lst_dct.values())\n",
    "print(lst_valu)\n",
    "\n",
    "lst_num=list(set(sorted(lst_valu)))\n",
    "sec_num = lst_num[1]\n",
    "list2 =list(lst_valu)\n",
    "\n",
    "lt = []\n",
    "for i in range (len(lst_valu)):\n",
    "    if lst_valu[i] == sec_num:\n",
    "        poss =lst_valu.index(lst_valu[i])\n",
    "        print(lst_key[poss])\n"
   ]
  },
  {
   "cell_type": "code",
   "execution_count": null,
   "id": "5686b16b",
   "metadata": {},
   "outputs": [],
   "source": []
  },
  {
   "cell_type": "code",
   "execution_count": null,
   "id": "032f7c12",
   "metadata": {},
   "outputs": [],
   "source": []
  },
  {
   "cell_type": "code",
   "execution_count": null,
   "id": "6fb3831d",
   "metadata": {},
   "outputs": [],
   "source": []
  },
  {
   "cell_type": "code",
   "execution_count": 99,
   "id": "6124958a",
   "metadata": {},
   "outputs": [
    {
     "name": "stdout",
     "output_type": "stream",
     "text": [
      "java\n",
      "python\n",
      "python\n"
     ]
    }
   ],
   "source": [
    "# creating a new dictionary\n",
    "my_dict ={\"java\":100, \"python\":112, \"c\":11}\n",
    " \n",
    "# list out keys and values separately\n",
    "key_list = list(my_dict.keys())\n",
    "val_list = list(my_dict.values())\n",
    " \n",
    "# print key with val 100\n",
    "position = val_list.index(100)\n",
    "print(key_list[position])\n",
    " \n",
    "# print key with val 112\n",
    "position = val_list.index(112)\n",
    "print(key_list[position])\n",
    " \n",
    "# one-liner\n",
    "print(list(my_dict.keys())[list(my_dict.values()).index(112)])"
   ]
  },
  {
   "cell_type": "markdown",
   "id": "1ae0dee7",
   "metadata": {},
   "source": [
    "#### New Line"
   ]
  },
  {
   "cell_type": "code",
   "execution_count": 130,
   "id": "259a0891",
   "metadata": {},
   "outputs": [
    {
     "name": "stdout",
     "output_type": "stream",
     "text": [
      "Pls Enter The Marks \n",
      "45\n",
      "['45']\n"
     ]
    }
   ],
   "source": [
    "# s1,s2,s3,s4,s5,s6,s7,s8  = \n",
    "lt = []\n",
    "for i in (input(\"Pls Enter The Marks \\n\").split()):\n",
    "    lt.append(i)\n",
    "    "
   ]
  },
  {
   "cell_type": "markdown",
   "id": "28eab20b",
   "metadata": {},
   "source": [
    "### currect Answer"
   ]
  },
  {
   "cell_type": "code",
   "execution_count": 252,
   "id": "43d5f6b3",
   "metadata": {},
   "outputs": [
    {
     "name": "stdout",
     "output_type": "stream",
     "text": [
      "3\n",
      "30.166666666666668\n"
     ]
    }
   ],
   "source": [
    "dct = {'A':{25,26.5,28},'B':{26,28,30},'C':{206,2.8,350},'D':{27.5,28,35}}\n",
    "\n",
    "# dct = {'Krishna':{67, 68, 69},'Arjun':{70, 98,63 },'Malika' :{52,56,60}}\n",
    "# ipt =input('Enter the Value :' )\n",
    "# dct = {'A':{25,26.5,28}}\n",
    "# dct = {'A':{26,28,30}} \n",
    "\n",
    "m =dct.get('D')\n",
    "n = len(dct.get('D'))\n",
    "print(n)\n",
    "dct.keys()\n",
    "# for i in range(n):\n",
    "#     avg = sum(list(list(dct.values())[i]))/(len(list(list(dct.values())[i])))\n",
    "# print(avg)\n",
    "for i in range(n):\n",
    "    avg = sum(list(m))/(len(m))\n",
    "print(avg)\n",
    "    "
   ]
  },
  {
   "cell_type": "code",
   "execution_count": 279,
   "id": "f40c32ca",
   "metadata": {},
   "outputs": [
    {
     "name": "stdout",
     "output_type": "stream",
     "text": [
      "28.00\n"
     ]
    }
   ],
   "source": [
    "# x = input(\"Enter your value: \")\n",
    "dct = {'A':{25,26.5,28},'B':{26,28,30},'C':{206,2.8,350},'D':{27.5,28,35}}\n",
    "m =dct.get('B')\n",
    "n = len(dct.get('B'))\n",
    "for i in range(n):\n",
    "    avg = sum(list(m))/(len(m))\n",
    "print( \"{:.2f}\".format(avg))\n",
    "\n",
    "\n",
    "# format_float = \"{:.2f}\".format(float)\n",
    "# print(format_float)"
   ]
  },
  {
   "cell_type": "code",
   "execution_count": 266,
   "id": "8688961f",
   "metadata": {},
   "outputs": [
    {
     "data": {
      "text/plain": [
       "str"
      ]
     },
     "execution_count": 266,
     "metadata": {},
     "output_type": "execute_result"
    }
   ],
   "source": [
    "In ='A' #input(\"Enter your value: \")\n",
    "type(In)"
   ]
  },
  {
   "cell_type": "markdown",
   "id": "29c0de2b",
   "metadata": {},
   "source": [
    "## Next Problem"
   ]
  },
  {
   "cell_type": "code",
   "execution_count": 329,
   "id": "a681b25a",
   "metadata": {},
   "outputs": [
    {
     "name": "stdout",
     "output_type": "stream",
     "text": [
      "This contains a word\n",
      "Found\n"
     ]
    }
   ],
   "source": [
    "# text =\"whoareyou\"\n",
    "# words = text.split()  \n",
    "# print(words)\n",
    "# words = text.slice()  \n",
    "\n",
    "string = \"This contains a word\"\n",
    "if \"s\" in string:\n",
    "    print(string)\n",
    "    print(\"Found\")\n",
    "else:\n",
    "    print(\"Not Found\")"
   ]
  },
  {
   "cell_type": "code",
   "execution_count": 374,
   "id": "5ee82aa1",
   "metadata": {},
   "outputs": [
    {
     "name": "stdout",
     "output_type": "stream",
     "text": [
      "1111111111111111111111111111111111\n",
      "1"
     ]
    }
   ],
   "source": [
    "\n",
    "stv= 'w'#input('Enter the Word :\\n')\n",
    "string = \"This contains is a sessionaly  word\"\n",
    "\n",
    "lt = []\n",
    "lt2 =[]\n",
    "###################################\n",
    "for x in string:\n",
    "    lt.append(x)\n",
    "###################################\n",
    "for i in range (len(lt)):\n",
    "    if lt[i]!= stv:\n",
    "        print('1',end ='')   \n",
    "    else :\n",
    "        lt2.append(lt[i])\n",
    "###################################\n",
    "print('\\n',end ='')\n",
    "###################################\n",
    "for j in range (len(lt2)):\n",
    "    print(j+1,end = '')"
   ]
  },
  {
   "cell_type": "code",
   "execution_count": 407,
   "id": "4f6ce116",
   "metadata": {},
   "outputs": [
    {
     "name": "stdout",
     "output_type": "stream",
     "text": [
      "11111111111111111111111111111111111\n"
     ]
    }
   ],
   "source": [
    "\n",
    "x= '20'\n",
    "string = '12345678910111213141516171820212223'\n",
    "lt = []\n",
    "lt2 =[]\n",
    "###################################\n",
    "for x in string:\n",
    "    lt.append(x)\n",
    "###################################\n",
    "for i in range (len(lt)):\n",
    "    if lt[i]!= stv:\n",
    "        print('1',end ='')   \n",
    "    else :\n",
    "        lt2.append(lt[i])\n",
    "###################################\n",
    "print('\\n',end ='')\n",
    "###################################\n",
    "for j in range (len(lt2)):\n",
    "    print(j+1,end = '')"
   ]
  },
  {
   "cell_type": "code",
   "execution_count": null,
   "id": "88f3599d",
   "metadata": {},
   "outputs": [],
   "source": []
  },
  {
   "cell_type": "code",
   "execution_count": null,
   "id": "84c880d6",
   "metadata": {},
   "outputs": [],
   "source": []
  },
  {
   "cell_type": "code",
   "execution_count": null,
   "id": "483b8aa0",
   "metadata": {},
   "outputs": [],
   "source": []
  },
  {
   "cell_type": "code",
   "execution_count": 385,
   "id": "e61d2f8a",
   "metadata": {},
   "outputs": [
    {
     "name": "stdout",
     "output_type": "stream",
     "text": [
      "<class 're.Match'>\n"
     ]
    },
    {
     "data": {
      "text/plain": [
       "('username', 'hackerrank', 'com')"
      ]
     },
     "execution_count": 385,
     "metadata": {},
     "output_type": "execute_result"
    }
   ],
   "source": [
    " import re\n",
    "m = re.match(r'(\\w+)@(\\w+)\\.(\\w+)','username@hackerrank.com')\n",
    "print(type(m))\n",
    "m.group(0)       # The entire match \n",
    "# 'username@hackerrank.com'\n",
    "m.group(1)       # The first parenthesized subgroup.\n",
    "# 'username'\n",
    "m.group(2)       # The second parenthesized subgroup.\n",
    "# 'hackerrank'\n",
    "m.group(3)       # The third parenthesized subgroup.\n",
    "# 'com'\n",
    "m.group(1,2,3)   # Multiple arguments give us a tuple.\n",
    "# ('username', 'hackerrank', 'com')"
   ]
  },
  {
   "cell_type": "code",
   "execution_count": 386,
   "id": "f9c85be9",
   "metadata": {},
   "outputs": [
    {
     "data": {
      "text/plain": [
       "{'user': 'myname', 'website': 'hackerrank', 'extension': 'com'}"
      ]
     },
     "execution_count": 386,
     "metadata": {},
     "output_type": "execute_result"
    }
   ],
   "source": [
    " m = re.match(r'(?P<user>\\w+)@(?P<website>\\w+)\\.(?P<extension>\\w+)','myname@hackerrank.com')\n",
    " m.groupdict()"
   ]
  },
  {
   "cell_type": "code",
   "execution_count": 2,
   "id": "c74eb36d",
   "metadata": {},
   "outputs": [
    {
     "name": "stdout",
     "output_type": "stream",
     "text": [
      "[-1]\n",
      "[-1, -5]\n",
      "[-1, -5, -1]\n",
      "[-1, -5, -1, -1]\n",
      "[1, 1, 5, 6]\n",
      "[-1, -5, -1, -1]\n",
      "[0]\n",
      "0.444444\n",
      "0.444444\n",
      "0.111111\n"
     ]
    }
   ],
   "source": [
    "arr=[ 1,1,0,5,6,-1,-5,-1,-1] \n",
    "lt1 =[]\n",
    "lt2 =[]\n",
    "lt3 =[]\n",
    "for i in range (len(arr)):\n",
    "        if arr[i] >0:\n",
    "            lt1.append(arr[i])\n",
    "            \n",
    "        elif arr[i] <0:\n",
    "            lt2.append(arr[i])\n",
    "            print(lt2)\n",
    "        else:\n",
    "            lt3.append(arr[i])\n",
    "print(lt1)\n",
    "print(lt2)\n",
    "print(lt3)\n",
    "x1 = (len(lt1))/len(arr) \n",
    "x2 = (len(lt2))/len(arr)\n",
    "x3 = (len(lt3))/len(arr)\n",
    "print(round(x1,6))\n",
    "print(round(x2,6))  \n",
    "print(round(x3,6))"
   ]
  },
  {
   "cell_type": "code",
   "execution_count": 3,
   "id": "c3be11ff",
   "metadata": {},
   "outputs": [
    {
     "name": "stdout",
     "output_type": "stream",
     "text": [
      "0.444444\n",
      "0.444444\n",
      "0.111111\n"
     ]
    }
   ],
   "source": [
    "lt1 =[]\n",
    "lt2 =[]\n",
    "lt3 =[]\n",
    "for i in range (len(arr)):\n",
    "        if arr[i] >0:\n",
    "            lt1.append(arr[i])\n",
    "            \n",
    "        elif arr[i] <0:\n",
    "            lt2.append(arr[i])\n",
    "\n",
    "        else:\n",
    "            lt3.append(arr[i])\n",
    "x1 = (len(lt1))/len(arr) \n",
    "x2 = (len(lt2))/len(arr)\n",
    "x3 = (len(lt3))/len(arr)\n",
    "print(round(x1,6))\n",
    "print(round(x2,6))  \n",
    "print(round(x3,6))"
   ]
  },
  {
   "cell_type": "code",
   "execution_count": 19,
   "id": "d7138dbe",
   "metadata": {},
   "outputs": [
    {
     "name": "stdout",
     "output_type": "stream",
     "text": [
      "Enter number of elements : 6\n",
      "\n",
      "Enter the numbers : -4 3 -9 0 4 1\n",
      "0.5\n",
      "0.333333\n",
      "0.166667\n"
     ]
    }
   ],
   "source": [
    "# #!/bin/python3\n",
    "\n",
    "# import math\n",
    "# import os\n",
    "# import random\n",
    "# import re\n",
    "# import sys\n",
    "\n",
    "#\n",
    "# Complete the 'plusMinus' function below.\n",
    "#\n",
    "# The function accepts INTEGER_ARRAY arr as parameter.\n",
    "#\n",
    "# number of elements\n",
    "n = int(input(\"Enter number of elements : \"))\n",
    "\n",
    "# Below line read inputs from user using map() function\n",
    "arr = list(map(int,input(\"\\nEnter the numbers : \").strip().split()))[0:n:1]\n",
    "\n",
    "def plusMinus(arr):\n",
    "    lt1 =[] \n",
    "    lt2 =[]\n",
    "    lt3 =[]\n",
    "    for i in range (len(arr)):\n",
    "        if arr[i] >0:\n",
    "            lt1.append(arr[i])\n",
    "            \n",
    "        elif arr[i] <0:\n",
    "            lt2.append(arr[i])\n",
    "\n",
    "        else:\n",
    "            lt3.append(arr[i])\n",
    "    x1 = (len(lt1))/len(arr) \n",
    "    x2 = (len(lt2))/len(arr)\n",
    "    x3 = (len(lt3))/len(arr)\n",
    "    print(round(x1,6))\n",
    "    print(round(x2,6))  \n",
    "    print(round(x3,6))\n",
    "\n",
    "plusMinus(arr)\n"
   ]
  },
  {
   "cell_type": "code",
   "execution_count": null,
   "id": "9004a497",
   "metadata": {},
   "outputs": [],
   "source": [
    "[-4, 3, -9, 0, 4, 1]"
   ]
  },
  {
   "cell_type": "code",
   "execution_count": 24,
   "id": "04dc485b",
   "metadata": {},
   "outputs": [
    {
     "name": "stdout",
     "output_type": "stream",
     "text": [
      "16    24\n"
     ]
    }
   ],
   "source": [
    "arr =  [1,5,9,7,3]\n",
    "arr = sorted(arr)\n",
    "x =sum(arr[0:4:1])\n",
    "y = sum(arr[1:5:1])\n",
    "if y>x:\n",
    "    print(x,'  ',y)\n",
    "else:\n",
    "    print(y,'  ',x)\n",
    "    "
   ]
  },
  {
   "cell_type": "code",
   "execution_count": 36,
   "id": "84614ec3",
   "metadata": {},
   "outputs": [
    {
     "name": "stdout",
     "output_type": "stream",
     "text": [
      "-35\n"
     ]
    }
   ],
   "source": [
    "x = ['12','1','15']\n",
    "print(int((x[1]+x[2]))- 150)"
   ]
  },
  {
   "cell_type": "code",
   "execution_count": 98,
   "id": "67835dbd",
   "metadata": {},
   "outputs": [
    {
     "name": "stdout",
     "output_type": "stream",
     "text": [
      "10:05:45\n"
     ]
    }
   ],
   "source": [
    "string = '10:05:45AM'\n",
    "y = []\n",
    "st1= []\n",
    "for x in string :\n",
    "    y.append(x)\n",
    "# print(y)\n",
    "# for i in range (len(y)):\n",
    "if y[-2]=='P':\n",
    "    y1 =y[0:len(y)-2]\n",
    "    print((str(12+int(y1[0] +y1[1]))) +y1[2] +y1[3]+y1[4] +y1[5] +y1[6] +y1[7] )\n",
    "else:\n",
    "    y2=y[0:len(y)-2]\n",
    "    print(y2[0] +y2[1] +y2[2] +y2[3]+y2[4] +y2[5] +y2[6] +y2[7] )\n",
    "        "
   ]
  },
  {
   "cell_type": "code",
   "execution_count": 52,
   "id": "895df334",
   "metadata": {},
   "outputs": [
    {
     "name": "stdout",
     "output_type": "stream",
     "text": [
      "['1', '2', ':', '0', '1', ':', '0', '0']\n",
      "['1', '2', ':', '0', '1', ':', '0', '0']\n",
      ":2\n"
     ]
    }
   ],
   "source": [
    "print(y2)\n",
    "print(y1)\n",
    "print(st1[0]+st[1]+)"
   ]
  },
  {
   "cell_type": "code",
   "execution_count": 172,
   "id": "54992c08",
   "metadata": {},
   "outputs": [
    {
     "name": "stdout",
     "output_type": "stream",
     "text": [
      "00:05:45\n"
     ]
    }
   ],
   "source": [
    "def timeConversion(s):\n",
    "#     s = '10:05:45PM'#'10:05:45AM'\n",
    "    y = []\n",
    "    st1= []\n",
    "    for x in s :\n",
    "        y.append(x)\n",
    "    # print(y)\n",
    "    # for i in range (len(y)):\n",
    "    if y[-2]=='A':\n",
    "        y2=y[0:len(y)-2]\n",
    "        if (y2[0] +y2[1] !='12' ):\n",
    "            print(y2[0] +y2[1] +y2[2] +y2[3]+y2[4] +y2[5] +y2[6] +y2[7] )\n",
    "        else:\n",
    "            print('00' +y2[2] +y2[3]+y2[4] +y2[5] +y2[6] +y2[7] )\n",
    "    else:\n",
    "            y1 =y[0:len(y)-2]\n",
    "            print((str(12+int(y1[0] +y1[1]))) +y1[2] +y1[3]+y1[4] +y1[5] +y1[6] +y1[7] )\n",
    "    \n",
    "        \n",
    "s = '12:05:45AM'#'10:05:45AM'\n",
    "timeConversion(s)"
   ]
  },
  {
   "cell_type": "code",
   "execution_count": 179,
   "id": "988b24af",
   "metadata": {},
   "outputs": [
    {
     "name": "stdout",
     "output_type": "stream",
     "text": [
      "07:05:45PM\n",
      "19:05:45\n"
     ]
    }
   ],
   "source": [
    "s = input()\n",
    "def timeConversion(s):\n",
    "    y = []\n",
    "    st1= []\n",
    "    for x in s :\n",
    "        y.append(x)\n",
    "\n",
    "    if y[-2]=='A':\n",
    "        y2=y[0:len(y)-2]\n",
    "        if (y2[0] +y2[1] !='12' ):\n",
    "            print(y2[0] +y2[1] +y2[2] +y2[3]+y2[4] +y2[5] +y2[6] +y2[7] )\n",
    "        else:\n",
    "            print('00' +y2[2] +y2[3]+y2[4] +y2[5] +y2[6] +y2[7] )\n",
    "    else:\n",
    "            y1 =y[0:len(y)-2]\n",
    "            print((str(12+int(y1[0] +y1[1]))) +y1[2] +y1[3]+y1[4] +y1[5] +y1[6] +y1[7] )\n",
    "    \n",
    "        \n",
    "timeConversion(s)"
   ]
  },
  {
   "cell_type": "code",
   "execution_count": 9,
   "id": "3e2eee4c",
   "metadata": {},
   "outputs": [
    {
     "name": "stdout",
     "output_type": "stream",
     "text": [
      "12:45:54AM\n",
      "00:45:54\n"
     ]
    }
   ],
   "source": [
    "\n",
    "import math\n",
    "import os\n",
    "import random\n",
    "import re\n",
    "import sys\n",
    "\n",
    "def timeConversion(s):\n",
    "    y = []\n",
    "    st1= []\n",
    "    for x in s :\n",
    "        y.append(x)\n",
    "\n",
    "    if y[-2]=='A':\n",
    "        y2=y[0:len(y)-2]\n",
    "        if (y2[0] +y2[1] !='12' ):\n",
    "            print(y2[0] +y2[1] +y2[2] +y2[3]+y2[4] +y2[5] +y2[6] +y2[7] )\n",
    "        else:\n",
    "            print('00' +y2[2] +y2[3]+y2[4] +y2[5] +y2[6] +y2[7] )\n",
    "    else:\n",
    "        y1 =y[0:len(y)-2]\n",
    "        if (y1[0] +y1[1] =='12' ):\n",
    "            print(y1[0] +y1[1] +y1[2] +y1[3]+y1[4] +y1[5] +y1[6] +y1[7] )\n",
    "        else:\n",
    "             print((str(12+int(y1[0] +y1[1]))) +y1[2] +y1[3]+y1[4] +y1[5] +y1[6] +y1[7] )\n",
    "\n",
    "\n",
    "    \n",
    "if __name__ == '__main__':\n",
    "\n",
    "    s = input()\n",
    "\n",
    "#     result = timeConversion(s)\n",
    "timeConversion(s)\n",
    "\n",
    "\n"
   ]
  },
  {
   "cell_type": "markdown",
   "id": "612b166d",
   "metadata": {},
   "source": [
    "### Median solving Problem"
   ]
  },
  {
   "cell_type": "code",
   "execution_count": 32,
   "id": "b8ed8b59",
   "metadata": {},
   "outputs": [
    {
     "name": "stdout",
     "output_type": "stream",
     "text": [
      "3.5\n"
     ]
    }
   ],
   "source": [
    "\n",
    "lt =[1,2,3,5]\n",
    "\n",
    "if (len(lt)%2 ==0):\n",
    "    print( (lt[int(len(lt)/2+1)] + lt[int(len(lt)/2-1)])/2) \n",
    "else:\n",
    "    print(lt[int((len(lt)+1)/2)])\n"
   ]
  },
  {
   "cell_type": "code",
   "execution_count": 48,
   "id": "b0dc67e6",
   "metadata": {},
   "outputs": [
    {
     "name": "stdout",
     "output_type": "stream",
     "text": [
      "None\n"
     ]
    }
   ],
   "source": [
    "lt_r =[]\n",
    "lt_r = lt.reverse()\n",
    "print(lt_r)"
   ]
  },
  {
   "cell_type": "code",
   "execution_count": 42,
   "id": "948c2d33",
   "metadata": {},
   "outputs": [
    {
     "name": "stdout",
     "output_type": "stream",
     "text": [
      "Reversed List: [7, 5, 3, 2]\n"
     ]
    }
   ],
   "source": [
    "# create a list of prime numbers\n",
    "prime_numbers = [2, 3, 5, 7]\n",
    "\n",
    "# reverse the order of list elements\n",
    "prime_numbers.reverse()\n",
    "\n",
    "\n",
    "print('Reversed List:', prime_numbers)\n"
   ]
  },
  {
   "cell_type": "code",
   "execution_count": 88,
   "id": "7aa99e21",
   "metadata": {},
   "outputs": [
    {
     "name": "stdout",
     "output_type": "stream",
     "text": [
      "4\n"
     ]
    }
   ],
   "source": [
    "x = [1, 2, 3,4,3,2,1]\n",
    "for i in x:\n",
    "    if  (x.count(i)==1):\n",
    "        print(i)"
   ]
  },
  {
   "cell_type": "code",
   "execution_count": 107,
   "id": "e4658b9c",
   "metadata": {},
   "outputs": [],
   "source": [
    "a = [1]"
   ]
  },
  {
   "cell_type": "code",
   "execution_count": 108,
   "id": "a999b99b",
   "metadata": {},
   "outputs": [],
   "source": [
    "a = [1]\n",
    "def lonelyinteger(a):    \n",
    "    for i in a:\n",
    "        if  (a.count(i)==1):\n",
    "            print(i)\n"
   ]
  },
  {
   "cell_type": "markdown",
   "id": "96b37d77",
   "metadata": {},
   "source": [
    "## Code given in hakker rank "
   ]
  },
  {
   "cell_type": "code",
   "execution_count": null,
   "id": "0d62396b",
   "metadata": {},
   "outputs": [],
   "source": [
    "#!/bin/python3\n",
    "\n",
    "import math\n",
    "import os\n",
    "import random\n",
    "import re\n",
    "import sys\n",
    "\n",
    "#\n",
    "# Complete the 'lonelyinteger' function below.\n",
    "#\n",
    "# The function is expected to return an INTEGER.\n",
    "# The function accepts INTEGER_ARRAY a as parameter.\n",
    "#\n",
    "\n",
    "def lonelyinteger(a):\n",
    "    # Write your code here\n",
    "\n",
    "if __name__ == '__main__':\n",
    "    fptr = open(os.environ['OUTPUT_PATH'], 'w')\n",
    "\n",
    "    n = int(input().strip())\n",
    "\n",
    "    a = list(map(int, input().rstrip().split()))\n",
    "\n",
    "    result = lonelyinteger(a)\n",
    "\n",
    "    fptr.write(str(result) + '\\n')\n",
    "\n",
    "    fptr.close()\n",
    "    \n",
    "    \n",
    "    "
   ]
  },
  {
   "cell_type": "markdown",
   "id": "7cd5f62e",
   "metadata": {},
   "source": [
    "### Modified Code"
   ]
  },
  {
   "cell_type": "code",
   "execution_count": null,
   "id": "bb050f80",
   "metadata": {},
   "outputs": [],
   "source": [
    "\n",
    "import math\n",
    "import os\n",
    "import random\n",
    "import re\n",
    "import sys\n",
    "\n",
    "#\n",
    "# Complete the 'lonelyinteger' function below.\n",
    "#\n",
    "# The function is expected to return an INTEGER.\n",
    "# The function accepts INTEGER_ARRAY a as parameter.\n",
    "#\n",
    "\n",
    "\n",
    "if __name__ == '__main__':\n",
    "    # fptr = open(os.environ['OUTPUT_PATH'], 'w')\n",
    "\n",
    "    n = int(input().strip())\n",
    "\n",
    "    a = list(map(int, input().rstrip().split()))\n",
    "\n",
    "\n",
    "def lonelyinteger(a):\n",
    "    for i in a:\n",
    "        if  (a.count(i)==1):\n",
    "            print(i)\n",
    "\n",
    "    \n",
    "         \n",
    "\n",
    "lonelyinteger(a)"
   ]
  },
  {
   "cell_type": "code",
   "execution_count": 166,
   "id": "48b2b395",
   "metadata": {},
   "outputs": [],
   "source": [
    "arr = [[11, 2, 4],\n",
    "       [4, 5, 6],\n",
    "       [10 ,8 ,-12]]\n"
   ]
  },
  {
   "cell_type": "code",
   "execution_count": 167,
   "id": "19eb3a3a",
   "metadata": {},
   "outputs": [
    {
     "name": "stdout",
     "output_type": "stream",
     "text": [
      "15\n"
     ]
    }
   ],
   "source": [
    "lt1 =[]\n",
    "lt2 =[]\n",
    "for i in range (len(arr)):\n",
    "    lt1.append(arr[i][i])\n",
    "for j in range (len(arr)):\n",
    "    lt2.append(arr[(len(arr)-1)-j][j])\n",
    "print(abs(sum(lt1) - sum(lt2)))"
   ]
  },
  {
   "cell_type": "code",
   "execution_count": 185,
   "id": "a4409401",
   "metadata": {},
   "outputs": [
    {
     "name": "stdout",
     "output_type": "stream",
     "text": [
      "0 2 1 1 1 1 1 0 1 0 1 1 0 2 1 1 1 0 1 1 1 0 1 2 0 0 1 1 0 0 0 1 2 1 0 0 0 2 1 1 2 1 1 1 1 0 1 2 0 1 0 2 1 1 1 0 0 1 0 1 0 2 0 0 1 0 0 1 1 2 0 1 0 1 0 1 1 0 2 1 1 1 2 0 2 0 0 1 0 1 0 2 1 1 1 1 0 1 1 2 "
     ]
    }
   ],
   "source": [
    "# a ='63 25 73 1 98 73 56 84 86 57 16 83 8 25 81 56 9 53 98 67 99 12 83 89 80 91 39 86 76 85 74 39 25 90 59 10 94 32 44 3 89 30 27 79 46 96 27 32 18 21 92 69 81 40 40 34 68 78 24 87 42 69 23 41 78 22 6 90 99 89 50 30 20 1 43 3 70 95 33 46 44 9 69 48 33 60 65 16 82 67 61 32 21 79 75 75 13 87 70 33 '\n",
    "\n",
    "arr = list(map(int, a.rstrip().split()))\n",
    "# arr = sorted(arr)\n",
    "# print(arr)\n",
    "lt =[]\n",
    "for i in range (len(arr)):\n",
    "    lt.append(arr.count(arr[i])- 1)\n",
    "    print(lt[i],end =' ')\n",
    "    "
   ]
  },
  {
   "cell_type": "code",
   "execution_count": 187,
   "id": "c6ce9e7f",
   "metadata": {},
   "outputs": [
    {
     "name": "stdout",
     "output_type": "stream",
     "text": [
      "[0, 2, 1, 1, 1, 1, 1, 0, 1, 0, 1, 1, 0, 2, 1, 1, 1, 0, 1, 1, 1, 0, 1, 2, 0, 0, 1, 1, 0, 0, 0, 1, 2, 1, 0, 0, 0, 2, 1, 1, 2, 1, 1, 1, 1, 0, 1, 2, 0, 1, 0, 2, 1, 1, 1, 0, 0, 1, 0, 1, 0, 2, 0, 0, 1, 0, 0, 1, 1, 2, 0, 1, 0, 1, 0, 1, 1, 0, 2, 1, 1, 1, 2, 0, 2, 0, 0, 1, 0, 1, 0, 2, 1, 1, 1, 1, 0, 1, 1, 2] "
     ]
    }
   ],
   "source": [
    "print(lt[::],end = (' '))"
   ]
  },
  {
   "cell_type": "code",
   "execution_count": null,
   "id": "cfdd6fb8",
   "metadata": {},
   "outputs": [],
   "source": [
    "# n = int(input().strip())\n",
    "arr = list('63 25 73 1 98 73 56 84 86 57 16 83 8 25 81 56 9 53 98 67 99 12 83 89 80 91 39 86 76 85 74 39 25 90 59 10 94 32 44 3 89 30 27 79 46 96 27 32 18 21 92 69 81 40 40 34 68 78 24 87 42 69 23 41 78 22 6 90 99 89 50 30 20 1 43 3 70 95 33 46 44 9 69 48 33 60 65 16 82 67 61 32 21 79 75 75 13 87 70 33 ')\n",
    "n = len(arr)\n",
    "# arr = list(map(int, input().rstrip().split()))\n",
    "\n",
    "counts = [0] * 100\n",
    "for i in xrange(n):\n",
    "    counts[arr[i]] = counts[arr[i]] + 1\n",
    "    \n",
    "final = [0] * n\n",
    "x = 0\n",
    "for i in xrange(100):\n",
    "    for j in xrange(counts[i]):\n",
    "        final[x] = i\n",
    "        x = x + 1\n",
    "    \n",
    "for i in xrange(n):\n",
    "    print final[i],\n"
   ]
  },
  {
   "cell_type": "code",
   "execution_count": 5,
   "id": "df2329ed",
   "metadata": {},
   "outputs": [
    {
     "data": {
      "text/plain": [
       "list"
      ]
     },
     "execution_count": 5,
     "metadata": {},
     "output_type": "execute_result"
    }
   ],
   "source": [
    "a = list('63 25 73 1 98 73 56 84 86 57 16 83 8 25 81 56 9 53 98 67 99 12 83 89 80 91 39 86 76 85 74 39 25 90 59 10 94 32 44 3 89 30 27 79 46 96 27 32 18 21 92 69 81 40 40 34 68 78 24 87 42 69 23 41 78 22 6 90 99 89 50 30 20 1 43 3 70 95 33 46 44 9 69 48 33 60 65 16 82 67 61 32 21 79 75 75 13 87 70 33 ')\n",
    "type(a)"
   ]
  },
  {
   "cell_type": "code",
   "execution_count": null,
   "id": "2a1a2efc",
   "metadata": {},
   "outputs": [],
   "source": []
  },
  {
   "cell_type": "code",
   "execution_count": null,
   "id": "c2a05482",
   "metadata": {},
   "outputs": [],
   "source": []
  },
  {
   "cell_type": "code",
   "execution_count": 61,
   "id": "640a4499",
   "metadata": {},
   "outputs": [
    {
     "name": "stdout",
     "output_type": "stream",
     "text": [
      "ABCD\n",
      "EFGH\n",
      "IJKL\n",
      "IMNO\n",
      "QRST\n",
      "UVWX\n",
      "YZ\n"
     ]
    }
   ],
   "source": [
    "import textwrap\n",
    "max_width =4\n",
    "def wrap(string, max_width):\n",
    "    lt = textwrap.wrap(string, width=max_width)\n",
    "    for s in lt:\n",
    "        print(s)\n",
    "    return \n",
    "wrap(string, max_width)   "
   ]
  },
  {
   "cell_type": "code",
   "execution_count": 65,
   "id": "1bab6a53",
   "metadata": {},
   "outputs": [
    {
     "name": "stdout",
     "output_type": "stream",
     "text": [
      "ABCD\n",
      "EFGH\n",
      "IJKL\n",
      "IMNO\n",
      "QRST\n",
      "UVWX\n",
      "YZ\n"
     ]
    }
   ],
   "source": [
    "lt = textwrap.fill(string, width=max_width)\n",
    "print(lt)\n",
    "\n",
    "# samework can be perform"
   ]
  },
  {
   "cell_type": "code",
   "execution_count": 139,
   "id": "d0451594",
   "metadata": {},
   "outputs": [],
   "source": [
    "s = 'hello world'\n",
    "def salve(s):\n",
    "    lt = s.split()\n",
    "    # print(type(lt) )\n",
    "    lt2 =[]\n",
    "    # print(lt)\n",
    "    for i in lt:\n",
    "#         y =\n",
    "        lt2.append(i.capitalize())\n",
    "    tp = tuple(lt2)\n",
    "    print(' '.join(tp))\n"
   ]
  },
  {
   "cell_type": "code",
   "execution_count": 140,
   "id": "30e1b99e",
   "metadata": {},
   "outputs": [
    {
     "name": "stdout",
     "output_type": "stream",
     "text": [
      "Hello World\n"
     ]
    }
   ],
   "source": [
    " salve(s)"
   ]
  },
  {
   "cell_type": "code",
   "execution_count": 34,
   "id": "fd19a95d",
   "metadata": {},
   "outputs": [
    {
     "name": "stdout",
     "output_type": "stream",
     "text": [
      "3 1000\n",
      "2 5 4\n",
      "3 7 8 9\n",
      "5 5 7 8 9 10\n",
      "206\n"
     ]
    }
   ],
   "source": [
    "lt = []\n",
    "K , M = map(int, input().rstrip().split())\n",
    "for i in range(K):\n",
    "    lt.append(list(map(int,input().split())) )\n",
    "lt2 =[]\n",
    "for ii in (lt):\n",
    "    lt2.append(max(ii)**2)\n",
    "print(sum(lt2)%M)"
   ]
  },
  {
   "cell_type": "code",
   "execution_count": null,
   "id": "775f3ff6",
   "metadata": {},
   "outputs": [],
   "source": []
  },
  {
   "cell_type": "code",
   "execution_count": 64,
   "id": "942dac46",
   "metadata": {},
   "outputs": [
    {
     "name": "stdout",
     "output_type": "stream",
     "text": [
      "4.0o0o0\n",
      "False\n",
      "True\n",
      "False\n",
      "False\n",
      "False\n",
      "False\n",
      "False\n"
     ]
    }
   ],
   "source": [
    "string = input()\n",
    "lt =[]\n",
    "for i in string:\n",
    "    lt.append(i)\n",
    "for i in (lt):\n",
    "#     if i =='+' or i =='-':\n",
    "    if (i =='-') or (i =='+') or (isinstance(i, int)==True) or i=='.':\n",
    "        print(True)\n",
    "    else:\n",
    "        print(False)"
   ]
  },
  {
   "cell_type": "code",
   "execution_count": 62,
   "id": "e14f52f6",
   "metadata": {},
   "outputs": [
    {
     "ename": "ValueError",
     "evalue": "invalid literal for int() with base 10: 'v'",
     "output_type": "error",
     "traceback": [
      "\u001b[1;31m---------------------------------------------------------------------------\u001b[0m",
      "\u001b[1;31mValueError\u001b[0m                                Traceback (most recent call last)",
      "Input \u001b[1;32mIn [62]\u001b[0m, in \u001b[0;36m<module>\u001b[1;34m\u001b[0m\n\u001b[1;32m----> 1\u001b[0m \u001b[38;5;28misinstance\u001b[39m(\u001b[38;5;28;43mint\u001b[39;49m\u001b[43m(\u001b[49m\u001b[38;5;124;43m'\u001b[39;49m\u001b[38;5;124;43mv\u001b[39;49m\u001b[38;5;124;43m'\u001b[39;49m\u001b[43m)\u001b[49m, \u001b[38;5;28mint\u001b[39m)\n",
      "\u001b[1;31mValueError\u001b[0m: invalid literal for int() with base 10: 'v'"
     ]
    }
   ],
   "source": [
    "isinstance(int('v'), int)"
   ]
  },
  {
   "cell_type": "code",
   "execution_count": 47,
   "id": "9c8fdf70",
   "metadata": {},
   "outputs": [],
   "source": [
    "string ='vyom'\n",
    "lt =[]\n",
    "for i in string:\n",
    "    lt.append(i)"
   ]
  },
  {
   "cell_type": "code",
   "execution_count": 48,
   "id": "8279f2ea",
   "metadata": {},
   "outputs": [
    {
     "data": {
      "text/plain": [
       "['v', 'y', 'o', 'm']"
      ]
     },
     "execution_count": 48,
     "metadata": {},
     "output_type": "execute_result"
    }
   ],
   "source": [
    "lt"
   ]
  },
  {
   "cell_type": "code",
   "execution_count": null,
   "id": "cef5be4f",
   "metadata": {},
   "outputs": [],
   "source": []
  },
  {
   "cell_type": "code",
   "execution_count": null,
   "id": "f9f7f0f5",
   "metadata": {},
   "outputs": [],
   "source": []
  },
  {
   "cell_type": "code",
   "execution_count": null,
   "id": "2543ba96",
   "metadata": {},
   "outputs": [],
   "source": []
  },
  {
   "cell_type": "code",
   "execution_count": null,
   "id": "cd7c9c26",
   "metadata": {},
   "outputs": [],
   "source": []
  },
  {
   "cell_type": "code",
   "execution_count": null,
   "id": "6cfbbda1",
   "metadata": {},
   "outputs": [],
   "source": []
  },
  {
   "cell_type": "code",
   "execution_count": null,
   "id": "0692d0a0",
   "metadata": {},
   "outputs": [],
   "source": []
  },
  {
   "cell_type": "code",
   "execution_count": null,
   "id": "551d1e77",
   "metadata": {},
   "outputs": [],
   "source": []
  },
  {
   "cell_type": "code",
   "execution_count": null,
   "id": "a0066fe5",
   "metadata": {},
   "outputs": [],
   "source": []
  },
  {
   "cell_type": "code",
   "execution_count": null,
   "id": "f52793e9",
   "metadata": {},
   "outputs": [],
   "source": []
  },
  {
   "cell_type": "code",
   "execution_count": null,
   "id": "1d6f3f4f",
   "metadata": {},
   "outputs": [],
   "source": []
  },
  {
   "cell_type": "code",
   "execution_count": null,
   "id": "2df655fc",
   "metadata": {},
   "outputs": [],
   "source": []
  },
  {
   "cell_type": "code",
   "execution_count": null,
   "id": "8d40fe0e",
   "metadata": {},
   "outputs": [],
   "source": []
  },
  {
   "cell_type": "code",
   "execution_count": null,
   "id": "bb905850",
   "metadata": {},
   "outputs": [],
   "source": []
  },
  {
   "cell_type": "code",
   "execution_count": null,
   "id": "a25059cd",
   "metadata": {},
   "outputs": [],
   "source": []
  },
  {
   "cell_type": "code",
   "execution_count": null,
   "id": "f2e76f91",
   "metadata": {},
   "outputs": [],
   "source": []
  },
  {
   "cell_type": "code",
   "execution_count": null,
   "id": "263db532",
   "metadata": {},
   "outputs": [],
   "source": []
  }
 ],
 "metadata": {
  "kernelspec": {
   "display_name": "Python 3 (ipykernel)",
   "language": "python",
   "name": "python3"
  },
  "language_info": {
   "codemirror_mode": {
    "name": "ipython",
    "version": 3
   },
   "file_extension": ".py",
   "mimetype": "text/x-python",
   "name": "python",
   "nbconvert_exporter": "python",
   "pygments_lexer": "ipython3",
   "version": "3.10.2"
  }
 },
 "nbformat": 4,
 "nbformat_minor": 5
}
