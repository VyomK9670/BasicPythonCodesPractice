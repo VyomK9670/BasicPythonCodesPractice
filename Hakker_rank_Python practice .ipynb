{
 "cells": [
  {
   "cell_type": "markdown",
   "id": "b6001547",
   "metadata": {},
   "source": [
    "## Python practice  3"
   ]
  },
  {
   "cell_type": "code",
   "execution_count": 24,
   "id": "d72708a5",
   "metadata": {},
   "outputs": [],
   "source": [
    "string ='HACK'\n",
    "n = 2   # pair\n",
    "from itertools import permutations\n",
    "def fun1(string,n):\n",
    "    inpA =[]\n",
    "    for s in string:\n",
    "        inpA.append(s)\n",
    "# inpA = lt\n",
    "    r =len(inpA)\n",
    "    lt2 = list(permutations(inpA,n))\n",
    "# print(lt2)\n",
    "    for i in (sorted(lt2)):\n",
    "        print((''.join(i))) \n",
    "    return"
   ]
  },
  {
   "cell_type": "code",
   "execution_count": 16,
   "id": "07697186",
   "metadata": {},
   "outputs": [
    {
     "name": "stdout",
     "output_type": "stream",
     "text": [
      "AC\n",
      "AH\n",
      "AK\n",
      "CA\n",
      "CH\n",
      "CK\n",
      "HA\n",
      "HC\n",
      "HK\n",
      "KA\n",
      "KC\n",
      "KH\n"
     ]
    }
   ],
   "source": [
    "\n",
    "for i in (sorted(lt2)):\n",
    "    print((''.join(i))) "
   ]
  },
  {
   "cell_type": "code",
   "execution_count": 26,
   "id": "b33a3bf3",
   "metadata": {},
   "outputs": [],
   "source": []
  },
  {
   "cell_type": "code",
   "execution_count": 29,
   "id": "0497ada5",
   "metadata": {},
   "outputs": [],
   "source": [
    "from itertools import permutations\n",
    "def fun1(string,n):\n",
    "    inpA =[]\n",
    "    for s in string:\n",
    "        inpA.append(s)\n",
    "# inpA = lt\n",
    "    r =len(inpA)\n",
    "    lt2 = list(permutations(inpA,n))\n",
    "# print(lt2)\n",
    "    for i in (sorted(lt2)):\n",
    "        x =''.join(i) \n",
    "    return x\n",
    "if '__name__'=='__main__':\n",
    "    string = input()\n",
    "    n =int(input())\n",
    "    result = fun1(string,n)\n",
    "    print(result)"
   ]
  },
  {
   "cell_type": "code",
   "execution_count": 1,
   "id": "31c80d6d",
   "metadata": {},
   "outputs": [
    {
     "name": "stdout",
     "output_type": "stream",
     "text": [
      "A\n",
      "E\n",
      "H\n",
      "K\n",
      "AE\n",
      "AH\n",
      "AK\n",
      "EH\n",
      "EK\n",
      "HK\n"
     ]
    }
   ],
   "source": [
    "from itertools import combinations\n",
    "# string,n=input().split()\n",
    "string ='HAKE'\n",
    "n = 2\n",
    "k= int(n)\n",
    "for i in range (1,k+1):\n",
    "    for j in combinations(sorted(string),i):\n",
    "        print(''.join(j))"
   ]
  },
  {
   "cell_type": "code",
   "execution_count": 73,
   "id": "a497732c",
   "metadata": {},
   "outputs": [
    {
     "name": "stdout",
     "output_type": "stream",
     "text": [
      "AA\n",
      "AC\n",
      "AH\n",
      "AK\n",
      "CC\n",
      "CH\n",
      "CK\n",
      "HH\n",
      "HK\n",
      "KK\n"
     ]
    }
   ],
   "source": [
    "from itertools import combinations_with_replacement\n",
    "# string,n = input().split()\n",
    "# k=int(n)\n",
    "string ='HACK'\n",
    "k= 2\n",
    "st1 =(list(combinations_with_replacement(sorted(string),k)))\n",
    "for i in st1:\n",
    "    print(''.join(i))"
   ]
  },
  {
   "cell_type": "code",
   "execution_count": 1,
   "id": "da75a7cd",
   "metadata": {},
   "outputs": [
    {
     "name": "stdout",
     "output_type": "stream",
     "text": [
      "('1', '1') ('1', '2') ('1', '3') ('2', '1') ('2', '2') ('2', '3') ('3', '1') ('3', '2') "
     ]
    }
   ],
   "source": [
    "from itertools import permutations\n",
    "string = '1222311'\n",
    "lt = sorted(list(permutations(string,2)))\n",
    "\n",
    "lt1=[]\n",
    "for i in lt:\n",
    "    if i not in lt1:\n",
    "        lt1.append(i)\n",
    "for i in lt1:\n",
    "    print(i,end =' ')"
   ]
  },
  {
   "cell_type": "code",
   "execution_count": 33,
   "id": "a92b8dee",
   "metadata": {},
   "outputs": [],
   "source": [
    "\n",
    "from collections import Counter"
   ]
  },
  {
   "cell_type": "code",
   "execution_count": 31,
   "id": "a70c6788",
   "metadata": {},
   "outputs": [
    {
     "name": "stdout",
     "output_type": "stream",
     "text": [
      "10\n",
      "2 3 4 5 6 8 7 6 5 18\n"
     ]
    }
   ],
   "source": [
    "n =int(input())\n",
    "store = input().split()\n"
   ]
  },
  {
   "cell_type": "code",
   "execution_count": 60,
   "id": "954e0f7c",
   "metadata": {},
   "outputs": [
    {
     "name": "stdout",
     "output_type": "stream",
     "text": [
      "dict_keys([2, 3, 4, 5, 6, 8, 7, 18])\n"
     ]
    }
   ],
   "source": [
    "# print(store)\n",
    "lt = []\n",
    "for i in store:\n",
    "    lt.append(int(i))\n",
    "# print(dict(Counter(lt)))\n",
    "count_store = dict(Counter(lt))\n",
    "sho_siz = count_store.keys() \n",
    "num_sho = count_store.values()\n",
    "print(sho_siz)"
   ]
  },
  {
   "cell_type": "code",
   "execution_count": 69,
   "id": "88567973",
   "metadata": {},
   "outputs": [
    {
     "name": "stdout",
     "output_type": "stream",
     "text": [
      "1\n",
      "1\n",
      "2\n",
      "1\n",
      "1\n"
     ]
    }
   ],
   "source": [
    "size_cust = [2 ,4,7,5,18]\n",
    "lt2 = list(sho_siz)\n",
    "for i in lt2:\n",
    "    for j in size_cust:\n",
    "        if j==i:\n",
    "            num =count_store.get(j)\n",
    "            print(num)"
   ]
  },
  {
   "cell_type": "code",
   "execution_count": 53,
   "id": "fedb99f1",
   "metadata": {},
   "outputs": [],
   "source": [
    "\n"
   ]
  },
  {
   "cell_type": "code",
   "execution_count": 52,
   "id": "92682fd5",
   "metadata": {},
   "outputs": [
    {
     "name": "stdout",
     "output_type": "stream",
     "text": [
      "2\n"
     ]
    }
   ],
   "source": []
  },
  {
   "cell_type": "code",
   "execution_count": 30,
   "id": "f790c617",
   "metadata": {},
   "outputs": [
    {
     "name": "stdout",
     "output_type": "stream",
     "text": [
      "None\n",
      "customer will pay\n",
      "None\n",
      "customer will pay\n",
      "None\n",
      "customer will pay\n",
      "None\n",
      "customer will pay\n"
     ]
    }
   ],
   "source": [
    "for i in string :\n",
    "    for j in size_cust:\n",
    "        if j ==i:\n",
    "            print(None)\n",
    "    print('customer will pay')"
   ]
  },
  {
   "cell_type": "code",
   "execution_count": null,
   "id": "97f67d92",
   "metadata": {},
   "outputs": [],
   "source": []
  },
  {
   "cell_type": "code",
   "execution_count": 100,
   "id": "3e5192d6",
   "metadata": {},
   "outputs": [
    {
     "name": "stdout",
     "output_type": "stream",
     "text": [
      "bcdef\n",
      "abcdefg\n",
      "bcde\n",
      "bcdef\n"
     ]
    }
   ],
   "source": [
    "n =4#input()\n",
    "lt =[]\n",
    "for i in range (n):\n",
    "    x = input()\n",
    "    lt.append(x)\n",
    "\n",
    "    "
   ]
  },
  {
   "cell_type": "code",
   "execution_count": 101,
   "id": "87286144",
   "metadata": {},
   "outputs": [
    {
     "name": "stdout",
     "output_type": "stream",
     "text": [
      "bcdef abcdefg bcde bcdef\n"
     ]
    }
   ],
   "source": [
    "st = ' '.join(lt)\n",
    "print(st)"
   ]
  },
  {
   "cell_type": "code",
   "execution_count": 104,
   "id": "3b08ecb0",
   "metadata": {},
   "outputs": [
    {
     "name": "stdout",
     "output_type": "stream",
     "text": [
      "3143"
     ]
    }
   ],
   "source": [
    "for s in lt:\n",
    "    print (st.count(s), end = '')\n"
   ]
  },
  {
   "cell_type": "code",
   "execution_count": 93,
   "id": "377e2d0a",
   "metadata": {},
   "outputs": [
    {
     "name": "stdout",
     "output_type": "stream",
     "text": [
      "1\n"
     ]
    }
   ],
   "source": [
    "import re\n",
    "\n",
    "word = \"dog\"\n",
    "str = \"the dogs barked\"\n",
    "print (len(re.findall(word, str)))"
   ]
  },
  {
   "cell_type": "code",
   "execution_count": 137,
   "id": "b1cd630e",
   "metadata": {},
   "outputs": [
    {
     "name": "stdout",
     "output_type": "stream",
     "text": [
      "11 18 1955\n",
      "FRIDAY\n"
     ]
    }
   ],
   "source": [
    "import calendar\n",
    "month,day,year =map(int,input().split())\n",
    "day_list = ['MONDAY ', 'TUESDAY' ,'WEDNESDAY','THURSDAY','FRIDAY','SATURDAY','SUNDAY']\n",
    "\n",
    "num_day = calendar.weekday(year,month,day)\n",
    "print(day_list[num_day])"
   ]
  },
  {
   "cell_type": "code",
   "execution_count": 123,
   "id": "ad16bdfe",
   "metadata": {},
   "outputs": [
    {
     "data": {
      "text/plain": [
       "'Thursday'"
      ]
     },
     "execution_count": 123,
     "metadata": {},
     "output_type": "execute_result"
    }
   ],
   "source": [
    "day_list[num_day]"
   ]
  },
  {
   "cell_type": "code",
   "execution_count": 142,
   "id": "58eb6543",
   "metadata": {},
   "outputs": [
    {
     "name": "stdout",
     "output_type": "stream",
     "text": [
      "Error Code: division by zero\n"
     ]
    }
   ],
   "source": [
    "#Code\n",
    "try:\n",
    "    print(1/0)\n",
    "except ZeroDivisionError as e:\n",
    "    print (\"Error Code:\",e)"
   ]
  },
  {
   "cell_type": "code",
   "execution_count": 152,
   "id": "9024f062",
   "metadata": {},
   "outputs": [
    {
     "name": "stdout",
     "output_type": "stream",
     "text": [
      "Error Code: division by zero\n",
      "0.0\n",
      "0.0\n",
      "Error Code: division by zero\n",
      "0.5\n",
      "1.0\n",
      "Error Code: division by zero\n",
      "1.0\n",
      "2.0\n"
     ]
    }
   ],
   "source": [
    "lt = [0,2, 1]\n",
    "for i in range(3):\n",
    "    for j in lt:\n",
    "        try:\n",
    "            print(i/j)\n",
    "        except ZeroDivisionError as e:\n",
    "            print('Error Code:',e)"
   ]
  },
  {
   "cell_type": "code",
   "execution_count": null,
   "id": "1b2b0bb3",
   "metadata": {},
   "outputs": [],
   "source": [
    "import re \n",
    "T =int(input())\n",
    "for i in range(T):\n",
    "    try :\n",
    "        re.compile(input())\n",
    "        print(True)\n",
    "    except :\n",
    "        print(False)"
   ]
  },
  {
   "cell_type": "code",
   "execution_count": 2,
   "id": "f15fff3d",
   "metadata": {},
   "outputs": [
    {
     "name": "stdout",
     "output_type": "stream",
     "text": [
      "2\n",
      "2\n",
      "2.0\n"
     ]
    }
   ],
   "source": [
    "import numpy as np\n",
    "pl_lt = list(map(float, input().split()))\n",
    "x =int(input())\n",
    "print(np.polyval(pl_lt,x))"
   ]
  },
  {
   "cell_type": "code",
   "execution_count": 30,
   "id": "3644f70e",
   "metadata": {},
   "outputs": [
    {
     "ename": "KeyboardInterrupt",
     "evalue": "Interrupted by user",
     "output_type": "error",
     "traceback": [
      "\u001b[1;31m---------------------------------------------------------------------------\u001b[0m",
      "\u001b[1;31mKeyboardInterrupt\u001b[0m                         Traceback (most recent call last)",
      "Input \u001b[1;32mIn [30]\u001b[0m, in \u001b[0;36m<module>\u001b[1;34m\u001b[0m\n\u001b[1;32m----> 1\u001b[0m dim \u001b[38;5;241m=\u001b[39m \u001b[38;5;28mint\u001b[39m(\u001b[38;5;28;43minput\u001b[39;49m\u001b[43m(\u001b[49m\u001b[43m)\u001b[49m)\n\u001b[0;32m      2\u001b[0m row1 \u001b[38;5;241m=\u001b[39m \u001b[38;5;28mlist\u001b[39m(\u001b[38;5;28mmap\u001b[39m(\u001b[38;5;28mfloat\u001b[39m,\u001b[38;5;28minput\u001b[39m()\u001b[38;5;241m.\u001b[39msplit()))\n\u001b[0;32m      3\u001b[0m row2 \u001b[38;5;241m=\u001b[39m \u001b[38;5;28mlist\u001b[39m(\u001b[38;5;28mmap\u001b[39m(\u001b[38;5;28mfloat\u001b[39m,\u001b[38;5;28minput\u001b[39m()\u001b[38;5;241m.\u001b[39msplit()))\n",
      "File \u001b[1;32m~\\AppData\\Local\\Programs\\Python\\Python310\\lib\\site-packages\\ipykernel\\kernelbase.py:1075\u001b[0m, in \u001b[0;36mKernel.raw_input\u001b[1;34m(self, prompt)\u001b[0m\n\u001b[0;32m   1071\u001b[0m \u001b[38;5;28;01mif\u001b[39;00m \u001b[38;5;129;01mnot\u001b[39;00m \u001b[38;5;28mself\u001b[39m\u001b[38;5;241m.\u001b[39m_allow_stdin:\n\u001b[0;32m   1072\u001b[0m     \u001b[38;5;28;01mraise\u001b[39;00m StdinNotImplementedError(\n\u001b[0;32m   1073\u001b[0m         \u001b[38;5;124m\"\u001b[39m\u001b[38;5;124mraw_input was called, but this frontend does not support input requests.\u001b[39m\u001b[38;5;124m\"\u001b[39m\n\u001b[0;32m   1074\u001b[0m     )\n\u001b[1;32m-> 1075\u001b[0m \u001b[38;5;28;01mreturn\u001b[39;00m \u001b[38;5;28;43mself\u001b[39;49m\u001b[38;5;241;43m.\u001b[39;49m\u001b[43m_input_request\u001b[49m\u001b[43m(\u001b[49m\n\u001b[0;32m   1076\u001b[0m \u001b[43m    \u001b[49m\u001b[38;5;28;43mstr\u001b[39;49m\u001b[43m(\u001b[49m\u001b[43mprompt\u001b[49m\u001b[43m)\u001b[49m\u001b[43m,\u001b[49m\n\u001b[0;32m   1077\u001b[0m \u001b[43m    \u001b[49m\u001b[38;5;28;43mself\u001b[39;49m\u001b[38;5;241;43m.\u001b[39;49m\u001b[43m_parent_ident\u001b[49m\u001b[43m[\u001b[49m\u001b[38;5;124;43m\"\u001b[39;49m\u001b[38;5;124;43mshell\u001b[39;49m\u001b[38;5;124;43m\"\u001b[39;49m\u001b[43m]\u001b[49m\u001b[43m,\u001b[49m\n\u001b[0;32m   1078\u001b[0m \u001b[43m    \u001b[49m\u001b[38;5;28;43mself\u001b[39;49m\u001b[38;5;241;43m.\u001b[39;49m\u001b[43mget_parent\u001b[49m\u001b[43m(\u001b[49m\u001b[38;5;124;43m\"\u001b[39;49m\u001b[38;5;124;43mshell\u001b[39;49m\u001b[38;5;124;43m\"\u001b[39;49m\u001b[43m)\u001b[49m\u001b[43m,\u001b[49m\n\u001b[0;32m   1079\u001b[0m \u001b[43m    \u001b[49m\u001b[43mpassword\u001b[49m\u001b[38;5;241;43m=\u001b[39;49m\u001b[38;5;28;43;01mFalse\u001b[39;49;00m\u001b[43m,\u001b[49m\n\u001b[0;32m   1080\u001b[0m \u001b[43m\u001b[49m\u001b[43m)\u001b[49m\n",
      "File \u001b[1;32m~\\AppData\\Local\\Programs\\Python\\Python310\\lib\\site-packages\\ipykernel\\kernelbase.py:1120\u001b[0m, in \u001b[0;36mKernel._input_request\u001b[1;34m(self, prompt, ident, parent, password)\u001b[0m\n\u001b[0;32m   1117\u001b[0m             \u001b[38;5;28;01mbreak\u001b[39;00m\n\u001b[0;32m   1118\u001b[0m \u001b[38;5;28;01mexcept\u001b[39;00m \u001b[38;5;167;01mKeyboardInterrupt\u001b[39;00m:\n\u001b[0;32m   1119\u001b[0m     \u001b[38;5;66;03m# re-raise KeyboardInterrupt, to truncate traceback\u001b[39;00m\n\u001b[1;32m-> 1120\u001b[0m     \u001b[38;5;28;01mraise\u001b[39;00m \u001b[38;5;167;01mKeyboardInterrupt\u001b[39;00m(\u001b[38;5;124m\"\u001b[39m\u001b[38;5;124mInterrupted by user\u001b[39m\u001b[38;5;124m\"\u001b[39m) \u001b[38;5;28;01mfrom\u001b[39;00m \u001b[38;5;28mNone\u001b[39m\n\u001b[0;32m   1121\u001b[0m \u001b[38;5;28;01mexcept\u001b[39;00m \u001b[38;5;167;01mException\u001b[39;00m:\n\u001b[0;32m   1122\u001b[0m     \u001b[38;5;28mself\u001b[39m\u001b[38;5;241m.\u001b[39mlog\u001b[38;5;241m.\u001b[39mwarning(\u001b[38;5;124m\"\u001b[39m\u001b[38;5;124mInvalid Message:\u001b[39m\u001b[38;5;124m\"\u001b[39m, exc_info\u001b[38;5;241m=\u001b[39m\u001b[38;5;28;01mTrue\u001b[39;00m)\n",
      "\u001b[1;31mKeyboardInterrupt\u001b[0m: Interrupted by user"
     ]
    }
   ],
   "source": [
    "dim = int(input())\n",
    "row1 = list(map(float,input().split()))\n",
    "row2 = list(map(float,input().split()))\n",
    "row1.extend(row2)\n",
    "m1 = np.asarray(row1)\n",
    "m2 = np.reshape(m1,(dim,dim))\n",
    "np.linalg.det(m2,dim)"
   ]
  },
  {
   "cell_type": "code",
   "execution_count": 40,
   "id": "2180c852",
   "metadata": {},
   "outputs": [
    {
     "name": "stdout",
     "output_type": "stream",
     "text": [
      "2\n",
      "1 2\n",
      "2 3\n",
      "-1.0\n"
     ]
    }
   ],
   "source": [
    "lt =[]\n",
    "N = int(input())\n",
    "for i in range (N):\n",
    "    lt.append(list(map(float,input().split())))\n",
    "print(round(np.linalg.det(lt),2))"
   ]
  },
  {
   "cell_type": "code",
   "execution_count": 64,
   "id": "1db8fa16",
   "metadata": {},
   "outputs": [],
   "source": [
    "lt0 =[]\n",
    "lt1 = ['v','Y','o','M','4','3']\n",
    "for  i in range (len(lt1)):\n",
    "    if lt1[i].islower()== True:\n",
    "        lt0.append(lt1[i])\n",
    "    else :\n",
    "        if lt1[i].isupper() ==True:\n",
    "            lt0.append(lt1[i])\n",
    "        else:\n",
    "            if lt1[i].isdigit()==True and int(i)%2 !=0:\n",
    "                lt0.append(lt1[i])\n",
    "            else :\n",
    "                if lt1[i].isdigit()==True and int(i)%2 ==0:\n",
    "                    lt0.append(lt1[i])\n",
    "#         break\n",
    "        \n",
    "    "
   ]
  },
  {
   "cell_type": "code",
   "execution_count": 75,
   "id": "6a6129dd",
   "metadata": {},
   "outputs": [
    {
     "name": "stdout",
     "output_type": "stream",
     "text": [
      "['S', 'o', 'r', 't', 'i', 'n', 'g', '1', '2', '3', '4']\n"
     ]
    }
   ],
   "source": [
    "stg= 'Sorting1234'\n",
    "lt2 =[]\n",
    "for s in stg:\n",
    "    lt2.append(s)\n",
    "print(lt2)"
   ]
  },
  {
   "cell_type": "code",
   "execution_count": 27,
   "id": "c4ebf144",
   "metadata": {},
   "outputs": [
    {
     "name": "stdout",
     "output_type": "stream",
     "text": [
      "Sorting1234\n",
      "ginortS1324\n"
     ]
    }
   ],
   "source": [
    "lt11 =[]\n",
    "lt22 =[]\n",
    "lt33 =[]\n",
    "lt44 =[]\n",
    "lt1 = []\n",
    "\n",
    "lt =list(input().split())\n",
    "for s in str(lt):\n",
    "    lt1.append(s)\n",
    "\n",
    "# lt1 = lt2#['v','Y','o','M','4','3']\n",
    "for  i in range (len(lt1)):\n",
    "    if lt1[i].islower()== True:\n",
    "        lt11.append(lt1[i])\n",
    "    elif lt1[i].isupper() ==True:\n",
    "        lt22.append(lt1[i])\n",
    "    elif lt1[i].isdigit()==True and int(i)%2 !=0:\n",
    "        lt33.append(lt1[i])\n",
    "    elif lt1[i].isdigit()==True and int(i)%2 ==0:\n",
    "        lt44.append(lt1[i])\n",
    "out = sorted(lt11)+sorted(lt22)+lt33+lt44\n",
    "print(''.join(out))"
   ]
  },
  {
   "cell_type": "code",
   "execution_count": 145,
   "id": "2a995bb8",
   "metadata": {},
   "outputs": [
    {
     "name": "stdout",
     "output_type": "stream",
     "text": [
      "['Sorting1234']\n"
     ]
    }
   ],
   "source": [
    "print(lt1)"
   ]
  },
  {
   "cell_type": "code",
   "execution_count": 121,
   "id": "a517b7c4",
   "metadata": {},
   "outputs": [
    {
     "data": {
      "text/plain": [
       "['o', 'r', 't', 'i', 'n', 'g', 'S', '1', '3', '2', '4']"
      ]
     },
     "execution_count": 121,
     "metadata": {},
     "output_type": "execute_result"
    }
   ],
   "source": []
  },
  {
   "cell_type": "code",
   "execution_count": 111,
   "id": "e571d113",
   "metadata": {},
   "outputs": [
    {
     "data": {
      "text/plain": [
       "[['o', 'r', 't', 'i', 'n', 'g'], ['S'], ['1', '3'], ['2', '4']]"
      ]
     },
     "execution_count": 111,
     "metadata": {},
     "output_type": "execute_result"
    }
   ],
   "source": [
    "lst"
   ]
  },
  {
   "cell_type": "code",
   "execution_count": 29,
   "id": "57bd8162",
   "metadata": {},
   "outputs": [
    {
     "name": "stdout",
     "output_type": "stream",
     "text": [
      "Sorting1234\n",
      "ginortS1324\n"
     ]
    }
   ],
   "source": [
    "# from __future__ import print_function\n",
    "\n",
    "upper = []\n",
    "lower = []\n",
    "even = []\n",
    "odd = []\n",
    "lt1 = []\n",
    "lt =list(input().split())\n",
    "for s in str(lt):\n",
    "    lt1.append(s)\n",
    "\n",
    "for  i in range (len(lt1)):\n",
    "    a = lt1[i]\n",
    "    \n",
    "    if lt1[i].islower()== True:\n",
    "        lower.append(lt1[i])\n",
    "    elif lt1[i].isupper() ==True:\n",
    "        upper.append(lt1[i])\n",
    "    elif lt1[i].isdigit()==True and int(i)%2 ==0:\n",
    "        even.append(lt1[i])\n",
    "    elif lt1[i].isdigit()==True and int(i)%2 !=0:\n",
    "        odd.append(lt1[i])\n",
    "   \n",
    "\n",
    "## upper.sort()\n",
    "lower.sort()\n",
    "even.sort()\n",
    "odd.sort()\n",
    "\n",
    "t = lower+upper+odd+even\n",
    "print(''.join(t))\n"
   ]
  },
  {
   "cell_type": "code",
   "execution_count": 16,
   "id": "3f2555fd",
   "metadata": {},
   "outputs": [
    {
     "data": {
      "text/plain": [
       "['[', \"'\", 'a', 's', 'd', 'a', 's', 'd', '4', '5', \"'\", ']']"
      ]
     },
     "execution_count": 16,
     "metadata": {},
     "output_type": "execute_result"
    }
   ],
   "source": [
    "lt1\n"
   ]
  },
  {
   "cell_type": "markdown",
   "id": "d15bee14",
   "metadata": {},
   "source": [
    "### Practice of Sets 1"
   ]
  },
  {
   "cell_type": "code",
   "execution_count": 34,
   "id": "b1c92e63",
   "metadata": {},
   "outputs": [
    {
     "name": "stdout",
     "output_type": "stream",
     "text": [
      "10\n",
      "161 182 161 154 176 170 167 171 170 174\n",
      "169.375\n"
     ]
    }
   ],
   "source": [
    "\n",
    "def average(array):\n",
    "    avg = sum(list(set(array)))/len(set(array))\n",
    "    result= round(avg,3)\n",
    "    return result\n",
    "if __name__ == '__main__':\n",
    "    n = int(input())\n",
    "    arr = list(map(int, input().split()))\n",
    "    result = average(arr)\n",
    "    print(result)"
   ]
  },
  {
   "cell_type": "markdown",
   "id": "117a3e10",
   "metadata": {},
   "source": [
    "### Set Practice 2"
   ]
  },
  {
   "cell_type": "code",
   "execution_count": 75,
   "id": "f1fce747",
   "metadata": {},
   "outputs": [
    {
     "name": "stdout",
     "output_type": "stream",
     "text": [
      "4\n",
      "2 4 5 9\n",
      "4\n",
      "12 15 5 9\n",
      "5\n",
      "9\n",
      "12\n",
      "15\n"
     ]
    }
   ],
   "source": [
    "N= int(input())\n",
    "set1 =  set(map(int,input().split()))\n",
    "M= int(input())\n",
    "set2 =  set(map(int,input().split()))\n",
    "if (set1.intersection(set2)==set2.intersection(set1) )==True:\n",
    "    out1 = set1.intersection(set2)\n",
    "    out2 = set1.union(set2)\n",
    "    uni= sorted(list(out2.difference(out1)))\n",
    "\n",
    "for i in uni:\n",
    "    print(i)\n"
   ]
  },
  {
   "cell_type": "code",
   "execution_count": 83,
   "id": "5b1debd8",
   "metadata": {
    "scrolled": true
   },
   "outputs": [
    {
     "name": "stdout",
     "output_type": "stream",
     "text": [
      "9\n",
      "1 2 3 4 5 6 7 8 9\n",
      "10\n",
      "remove 9\n",
      "discard 9 \n",
      "dicard 8\n",
      "remove 7\n",
      "pop\n",
      "dicard 6\n",
      "remove 5\n",
      "pop\n",
      "discard 5\n",
      "pop\n",
      "8\n"
     ]
    }
   ],
   "source": [
    "n = int(input())\n",
    "s = set(map(int,input().split()))\n",
    "num =int(input())\n",
    "for i in range(num):\n",
    "    ip = input().split()\n",
    "    if ip[0]==\"remove\":\n",
    "        s.remove(int(ip[1]))\n",
    "    elif ip[0]==\"discard\":\n",
    "        s.discard(int(ip[1]))\n",
    "    else :\n",
    "        s.pop()\n",
    "print(sum(list(s)))\n",
    "    \n",
    "        "
   ]
  },
  {
   "cell_type": "code",
   "execution_count": 98,
   "id": "13d76d1b",
   "metadata": {},
   "outputs": [
    {
     "name": "stdout",
     "output_type": "stream",
     "text": [
      "Total number of country:7\n",
      "Pls Enter thr Name of Contry :UK\n",
      "Pls Enter thr Name of Contry :CHINA\n",
      "Pls Enter thr Name of Contry :USA\n",
      "Pls Enter thr Name of Contry :FRANCE\n",
      "Pls Enter thr Name of Contry :NEW LAND\n",
      "Pls Enter thr Name of Contry :UK\n",
      "Pls Enter thr Name of Contry :FRANCE\n",
      "5\n"
     ]
    }
   ],
   "source": [
    "N = int(input('Total number of country:' ))\n",
    "empty = set()\n",
    "for i in range (N):\n",
    "    set_1 = input('Pls Enter the Name of Contry :')\n",
    "    empty.add(set_1)\n",
    "print(len(empty))"
   ]
  },
  {
   "cell_type": "code",
   "execution_count": 167,
   "id": "54e5ae2d",
   "metadata": {},
   "outputs": [
    {
     "name": "stdout",
     "output_type": "stream",
     "text": [
      "2\n",
      "1 2 \n",
      "5\n",
      "1 2 11 12 13\n"
     ]
    }
   ],
   "source": [
    "N1 = int(input())\n",
    "set1 = set()\n",
    "inp1 = list(input().split())\n",
    "\n",
    "N2 = int(input())\n",
    "set2 = []\n",
    "inp = list(input().split())\n",
    "\n",
    "inp1.extend(inp)\n",
    "len(set(inp1) )\n"
   ]
  },
  {
   "cell_type": "code",
   "execution_count": 161,
   "id": "555af3d8",
   "metadata": {},
   "outputs": [],
   "source": [
    "inp1.extend(inp)"
   ]
  },
  {
   "cell_type": "code",
   "execution_count": 164,
   "id": "90e339de",
   "metadata": {},
   "outputs": [
    {
     "data": {
      "text/plain": [
       "3"
      ]
     },
     "execution_count": 164,
     "metadata": {},
     "output_type": "execute_result"
    }
   ],
   "source": [
    "len(set(inp1) )"
   ]
  },
  {
   "cell_type": "code",
   "execution_count": 5,
   "id": "50e8df65",
   "metadata": {},
   "outputs": [
    {
     "name": "stdout",
     "output_type": "stream",
     "text": [
      "9\n",
      "1 2 3 4 5 6 7 8 9\n",
      "9\n",
      "10 1 2 3 11 21 55 6 8\n",
      "4\n"
     ]
    }
   ],
   "source": [
    "N1 = int(input())\n",
    "set1 = set()\n",
    "inp1 = list(input().split())\n",
    "\n",
    "N2 = int(input())\n",
    "set2 = []\n",
    "inp = list(input().split())\n",
    "NUm_st_only_Eng = set(inp1).difference(set(inp))\n",
    "print(len(NUm_st_only_Eng))"
   ]
  },
  {
   "cell_type": "code",
   "execution_count": 6,
   "id": "d01cb738",
   "metadata": {},
   "outputs": [
    {
     "data": {
      "text/plain": [
       "{'4', '5', '7', '9'}"
      ]
     },
     "execution_count": 6,
     "metadata": {},
     "output_type": "execute_result"
    }
   ],
   "source": [
    "NUm_st_only_Eng"
   ]
  },
  {
   "cell_type": "code",
   "execution_count": 7,
   "id": "e7ea1671",
   "metadata": {},
   "outputs": [
    {
     "name": "stdout",
     "output_type": "stream",
     "text": [
      "{'c', 'R', 'H', 'n', 'r', 'e'}\n"
     ]
    }
   ],
   "source": []
  },
  {
   "cell_type": "markdown",
   "id": "eeeebf7e",
   "metadata": {},
   "source": [
    "### .symmetric_difference() operator  or (set1)^(set2) "
   ]
  },
  {
   "cell_type": "code",
   "execution_count": 9,
   "id": "e0c0b6e7",
   "metadata": {},
   "outputs": [
    {
     "name": "stdout",
     "output_type": "stream",
     "text": [
      "{'c', 'R', 'H', 'n', 'r', 'e'}\n"
     ]
    }
   ],
   "source": [
    "s = set(\"Hacker\")\n",
    "print(s.symmetric_difference(\"Rank\"))"
   ]
  },
  {
   "cell_type": "code",
   "execution_count": 15,
   "id": "b657c8c6",
   "metadata": {},
   "outputs": [
    {
     "name": "stdout",
     "output_type": "stream",
     "text": [
      "{'o', 'a', 'r', 'u', 'K', 'y', 'V'}\n"
     ]
    }
   ],
   "source": [
    "s1 =set('Vyom' )\n",
    "s2 = set('Kumar')\n",
    "print(s1.symmetric_difference(s2) )"
   ]
  },
  {
   "cell_type": "code",
   "execution_count": 22,
   "id": "4cc87852",
   "metadata": {},
   "outputs": [
    {
     "name": "stdout",
     "output_type": "stream",
     "text": [
      "{'c', 'H', 'k', 'a', 'r', 'e'}\n",
      "{'c', 'R', 'H', 'n', 'r', 'e'}\n"
     ]
    }
   ],
   "source": [
    "s = set(\"Hacker\")\n",
    "print(s)\n",
    "print(s.symmetric_difference(set(['R', 'a', 'n', 'k'])) )"
   ]
  },
  {
   "cell_type": "code",
   "execution_count": 23,
   "id": "f4dbd860",
   "metadata": {},
   "outputs": [
    {
     "name": "stdout",
     "output_type": "stream",
     "text": [
      "{'c', 'R', 'H', 'n', 'r', 'e'}\n"
     ]
    }
   ],
   "source": [
    "lst = ['R', 'a', 'n', 'k']\n",
    "print(s.symmetric_difference(['R', 'a', 'n', 'k']) )"
   ]
  },
  {
   "cell_type": "code",
   "execution_count": 24,
   "id": "5dc021de",
   "metadata": {},
   "outputs": [
    {
     "name": "stdout",
     "output_type": "stream",
     "text": [
      "9\n",
      "1 2 3 4 5 6 7 8 9\n",
      "9\n",
      "10 1 2 3 11 21 55 6 8\n",
      "8\n"
     ]
    }
   ],
   "source": [
    "N1 = int(input())\n",
    "set1 = set()\n",
    "inp1 = list(input().split())\n",
    "\n",
    "N2 = int(input())\n",
    "set2 = []\n",
    "inp = list(input().split())\n",
    "NUm_st_only_Eng = set(inp1).difference(set(inp))\n",
    "print(len(NUm_st_only_Eng))"
   ]
  },
  {
   "cell_type": "code",
   "execution_count": null,
   "id": "1e61d55d",
   "metadata": {},
   "outputs": [],
   "source": [
    "\n"
   ]
  },
  {
   "cell_type": "code",
   "execution_count": null,
   "id": "14c71157",
   "metadata": {},
   "outputs": [],
   "source": [
    "\n",
    "        \n",
    "    "
   ]
  },
  {
   "cell_type": "code",
   "execution_count": 33,
   "id": "c6b2bd6b",
   "metadata": {},
   "outputs": [
    {
     "name": "stdout",
     "output_type": "stream",
     "text": [
      "16\n",
      "1 2 3 4 5 6 7 8 9 10 11 12 13 14 24 52\n",
      "4\n",
      " intersection_update 10\n",
      " 2 3 5 6 8 9 1 4 7 11\n",
      " update 2\n",
      " 55 66\n",
      " symmetric_difference_update 5\n",
      " 22 7 35 62 58\n",
      "177\n"
     ]
    }
   ],
   "source": [
    "len_set = int(input())\n",
    "\n",
    "storage = set(map(int, input().split()))\n",
    "\n",
    "op_len = int(input())\n",
    "\n",
    "for i in range(op_len):\n",
    "    operation = input().split()\n",
    "    if operation[0] == 'intersection_update':\n",
    "        temp_storage = set(map(int, input().split()))\n",
    "        storage.intersection_update(temp_storage)\n",
    "    elif operation[0] == 'update':\n",
    "        temp_storage = set(map(int, input().split()))\n",
    "        storage.update(temp_storage)\n",
    "    elif operation[0] == 'symmetric_difference_update':\n",
    "        temp_storage = set(map(int, input().split()))\n",
    "        storage.symmetric_difference_update(temp_storage)\n",
    "    elif operation[0] == 'difference_update':\n",
    "        temp_storage = set(map(int, input().split()))\n",
    "        storage.difference_update(temp_storage)\n",
    "    else :\n",
    "        assert False\n",
    "\n",
    "print(sum(storage))"
   ]
  },
  {
   "cell_type": "markdown",
   "id": "abab53e7",
   "metadata": {},
   "source": [
    "## .issubset() testing"
   ]
  },
  {
   "cell_type": "code",
   "execution_count": 37,
   "id": "e5038e51",
   "metadata": {},
   "outputs": [
    {
     "name": "stdout",
     "output_type": "stream",
     "text": [
      "3\n",
      "5\n",
      "1 2 3 5 6\n",
      "9\n",
      "9 8 5 6 3 2 1 4 7\n",
      "True\n",
      "1\n",
      "2\n",
      "5\n",
      "3 6 5 4 1\n",
      "False\n",
      "7\n",
      "1 2 3 5 6 8 9\n",
      "3\n",
      "9 8 2\n",
      "False\n"
     ]
    }
   ],
   "source": [
    "Num_test = int(input())\n",
    "for i in range(Num_test):\n",
    "    NA = int(input())\n",
    "    setA = set(map(int,input().split()))\n",
    "    NB = int(input())\n",
    "    setB = set(map(int,input().split()))\n",
    "    if setA.issubset(setB):\n",
    "        print(True)\n",
    "    else:\n",
    "        print(False)\n",
    "    "
   ]
  },
  {
   "cell_type": "code",
   "execution_count": 60,
   "id": "5c6cec6f",
   "metadata": {
    "scrolled": true
   },
   "outputs": [
    {
     "name": "stdout",
     "output_type": "stream",
     "text": [
      "1 3 4\n",
      "1\n",
      "1 3 \n",
      "True\n"
     ]
    }
   ],
   "source": [
    "set1 = set(map(int,input().split()))\n",
    "Num_sub = int(input())\n",
    "lt = set()\n",
    "for i in range (Num_sub):\n",
    "    lt.update(set(map(int,input().split())))\n",
    "\n",
    "if set1.issuperset(lt):\n",
    "    print(True)\n",
    "else:\n",
    "    print(False)"
   ]
  },
  {
   "cell_type": "code",
   "execution_count": 97,
   "id": "9e6703f7",
   "metadata": {},
   "outputs": [
    {
     "name": "stdout",
     "output_type": "stream",
     "text": [
      "2\n",
      "9670962535\n",
      "2596709625\n"
     ]
    }
   ],
   "source": [
    "Num_inp = int(input())\n",
    "lt = []\n",
    "for i in range (Num_inp):\n",
    "    lt.append((input().split()))\n",
    "       "
   ]
  },
  {
   "cell_type": "code",
   "execution_count": null,
   "id": "1a91c05e",
   "metadata": {},
   "outputs": [],
   "source": []
  },
  {
   "cell_type": "code",
   "execution_count": null,
   "id": "5fee6a2b",
   "metadata": {},
   "outputs": [],
   "source": []
  },
  {
   "cell_type": "code",
   "execution_count": null,
   "id": "c66e467f",
   "metadata": {},
   "outputs": [],
   "source": []
  },
  {
   "cell_type": "code",
   "execution_count": 137,
   "id": "54662f77",
   "metadata": {},
   "outputs": [
    {
     "name": "stdout",
     "output_type": "stream",
     "text": [
      "5\n",
      "1\n",
      "121\n",
      "12321\n",
      "1234321\n",
      "123454321\n"
     ]
    }
   ],
   "source": [
    "lt = []\n",
    "N = int(input())\n",
    "for i in range(N):\n",
    "    lt.append('1'*(i+1))\n",
    "for i in lt:\n",
    "    print(int(i)**2)"
   ]
  },
  {
   "cell_type": "code",
   "execution_count": 153,
   "id": "8b4346b1",
   "metadata": {},
   "outputs": [
    {
     "name": "stdout",
     "output_type": "stream",
     "text": [
      "5\n",
      "1\n",
      "121\n",
      "12321\n",
      "1234321\n",
      "123454321\n"
     ]
    }
   ],
   "source": [
    "lt = []\n",
    "for i in range(int(input())): #More than 2 lines will result in 0 score. Do not leave a blank line also\n",
    "    lt.append('1'*(i+1))\n",
    "for i in lt:\n",
    "    print(int(i)**2)"
   ]
  },
  {
   "cell_type": "code",
   "execution_count": 164,
   "id": "d4f66311",
   "metadata": {},
   "outputs": [
    {
     "ename": "SyntaxError",
     "evalue": "invalid syntax (986118135.py, line 1)",
     "output_type": "error",
     "traceback": [
      "\u001b[1;36m  Input \u001b[1;32mIn [164]\u001b[1;36m\u001b[0m\n\u001b[1;33m    g = [i for i in range(int(input()))  j for j in lt ]\u001b[0m\n\u001b[1;37m                                         ^\u001b[0m\n\u001b[1;31mSyntaxError\u001b[0m\u001b[1;31m:\u001b[0m invalid syntax\n"
     ]
    }
   ],
   "source": [
    "g = [i for i in range(int(input()))  j for j in lt ]\n",
    "print(g)"
   ]
  },
  {
   "cell_type": "code",
   "execution_count": 168,
   "id": "e07366a5",
   "metadata": {},
   "outputs": [
    {
     "name": "stdout",
     "output_type": "stream",
     "text": [
      "177\n",
      "10\n",
      "17\n",
      "7\n",
      "(17, 7)\n"
     ]
    }
   ],
   "source": [
    "a = int(input())\n",
    "b = int(input())\n",
    "print(a//b)\n",
    "print(a%b)\n",
    "print(divmod(a,b))"
   ]
  },
  {
   "cell_type": "code",
   "execution_count": 179,
   "id": "a4947abf",
   "metadata": {},
   "outputs": [
    {
     "name": "stdout",
     "output_type": "stream",
     "text": [
      "3\n",
      "4\n",
      "5\n",
      "81\n",
      "1\n"
     ]
    }
   ],
   "source": [
    "a = float(input())\n",
    "b = float(input())\n",
    "m = int(input())\n",
    "print(int(pow(a,b)))\n",
    "print(pow(int(a),int(b),m))"
   ]
  },
  {
   "cell_type": "code",
   "execution_count": 191,
   "id": "53b1ea29",
   "metadata": {},
   "outputs": [
    {
     "name": "stdout",
     "output_type": "stream",
     "text": [
      "5\n",
      "1\n",
      "22\n",
      "333\n",
      "4444\n"
     ]
    }
   ],
   "source": [
    "for i in range(1,int(input())): #More than 2 lines will result in 0 score. Do not leave a blank line also\n",
    "    prt = int(i*10**i/9)\n",
    "    print(prt)"
   ]
  },
  {
   "cell_type": "code",
   "execution_count": 201,
   "id": "a94cd067",
   "metadata": {},
   "outputs": [
    {
     "name": "stdout",
     "output_type": "stream",
     "text": [
      "Enter two values: 3 3\n"
     ]
    }
   ],
   "source": [
    "x, y = input(\"Enter two values: \").split()"
   ]
  },
  {
   "cell_type": "code",
   "execution_count": 206,
   "id": "dc3ba50a",
   "metadata": {},
   "outputs": [
    {
     "name": "stdout",
     "output_type": "stream",
     "text": [
      "3 3\n"
     ]
    },
    {
     "data": {
      "text/plain": [
       "array([[1., 0., 0.],\n",
       "       [0., 1., 0.],\n",
       "       [0., 0., 1.]])"
      ]
     },
     "execution_count": 206,
     "metadata": {},
     "output_type": "execute_result"
    }
   ],
   "source": [
    "import numpy as np\n",
    "\n",
    "N,M = input().split()\n",
    "# M = int(input())\n",
    "np.eye(int(N),int(M),k=0)"
   ]
  },
  {
   "cell_type": "code",
   "execution_count": 215,
   "id": "6435978f",
   "metadata": {},
   "outputs": [
    {
     "name": "stdout",
     "output_type": "stream",
     "text": [
      "1 4\n",
      "1 2 3 4\n",
      "5 6 7 8\n",
      "[ 6.  8. 10. 12.]\n",
      "[-4. -4. -4. -4.]\n",
      "[ 5. 12. 21. 32.]\n",
      "[0.2        0.33333333 0.42857143 0.5       ]\n",
      "[1. 2. 3. 4.]\n",
      "[1.0000e+00 6.4000e+01 2.1870e+03 6.5536e+04]\n"
     ]
    }
   ],
   "source": [
    "\n",
    "M ,N = input().split()\n",
    "M1 = np.array(input().split(),float)\n",
    "M2 = np.array(input().split(),float)\n",
    "\n",
    "print(np.add(M1,M2))\n",
    "print(np.subtract(M1,M2))\n",
    "print(np.multiply(M1,M2))\n",
    "print(np.divide(M1,M2))\n",
    "print(np.mod(M1,M2))\n",
    "print(np.power(M1,M2))"
   ]
  },
  {
   "cell_type": "code",
   "execution_count": 238,
   "id": "843f0962",
   "metadata": {},
   "outputs": [
    {
     "ename": "KeyboardInterrupt",
     "evalue": "Interrupted by user",
     "output_type": "error",
     "traceback": [
      "\u001b[1;31m---------------------------------------------------------------------------\u001b[0m",
      "\u001b[1;31mKeyboardInterrupt\u001b[0m                         Traceback (most recent call last)",
      "Input \u001b[1;32mIn [238]\u001b[0m, in \u001b[0;36m<module>\u001b[1;34m\u001b[0m\n\u001b[1;32m----> 1\u001b[0m M ,N \u001b[38;5;241m=\u001b[39m \u001b[38;5;28mmap\u001b[39m(\u001b[38;5;28mint\u001b[39m,\u001b[38;5;28;43minput\u001b[39;49m\u001b[43m(\u001b[49m\u001b[43m)\u001b[49m\u001b[38;5;241m.\u001b[39msplit())\n\u001b[0;32m      2\u001b[0m M1 \u001b[38;5;241m=\u001b[39m np\u001b[38;5;241m.\u001b[39marray(\u001b[38;5;28minput\u001b[39m()\u001b[38;5;241m.\u001b[39msplit(),\u001b[38;5;28mfloat\u001b[39m)\n\u001b[0;32m      3\u001b[0m M2 \u001b[38;5;241m=\u001b[39m np\u001b[38;5;241m.\u001b[39marray(\u001b[38;5;28minput\u001b[39m()\u001b[38;5;241m.\u001b[39msplit(),\u001b[38;5;28mfloat\u001b[39m)\n",
      "File \u001b[1;32m~\\AppData\\Local\\Programs\\Python\\Python310\\lib\\site-packages\\ipykernel\\kernelbase.py:1075\u001b[0m, in \u001b[0;36mKernel.raw_input\u001b[1;34m(self, prompt)\u001b[0m\n\u001b[0;32m   1071\u001b[0m \u001b[38;5;28;01mif\u001b[39;00m \u001b[38;5;129;01mnot\u001b[39;00m \u001b[38;5;28mself\u001b[39m\u001b[38;5;241m.\u001b[39m_allow_stdin:\n\u001b[0;32m   1072\u001b[0m     \u001b[38;5;28;01mraise\u001b[39;00m StdinNotImplementedError(\n\u001b[0;32m   1073\u001b[0m         \u001b[38;5;124m\"\u001b[39m\u001b[38;5;124mraw_input was called, but this frontend does not support input requests.\u001b[39m\u001b[38;5;124m\"\u001b[39m\n\u001b[0;32m   1074\u001b[0m     )\n\u001b[1;32m-> 1075\u001b[0m \u001b[38;5;28;01mreturn\u001b[39;00m \u001b[38;5;28;43mself\u001b[39;49m\u001b[38;5;241;43m.\u001b[39;49m\u001b[43m_input_request\u001b[49m\u001b[43m(\u001b[49m\n\u001b[0;32m   1076\u001b[0m \u001b[43m    \u001b[49m\u001b[38;5;28;43mstr\u001b[39;49m\u001b[43m(\u001b[49m\u001b[43mprompt\u001b[49m\u001b[43m)\u001b[49m\u001b[43m,\u001b[49m\n\u001b[0;32m   1077\u001b[0m \u001b[43m    \u001b[49m\u001b[38;5;28;43mself\u001b[39;49m\u001b[38;5;241;43m.\u001b[39;49m\u001b[43m_parent_ident\u001b[49m\u001b[43m[\u001b[49m\u001b[38;5;124;43m\"\u001b[39;49m\u001b[38;5;124;43mshell\u001b[39;49m\u001b[38;5;124;43m\"\u001b[39;49m\u001b[43m]\u001b[49m\u001b[43m,\u001b[49m\n\u001b[0;32m   1078\u001b[0m \u001b[43m    \u001b[49m\u001b[38;5;28;43mself\u001b[39;49m\u001b[38;5;241;43m.\u001b[39;49m\u001b[43mget_parent\u001b[49m\u001b[43m(\u001b[49m\u001b[38;5;124;43m\"\u001b[39;49m\u001b[38;5;124;43mshell\u001b[39;49m\u001b[38;5;124;43m\"\u001b[39;49m\u001b[43m)\u001b[49m\u001b[43m,\u001b[49m\n\u001b[0;32m   1079\u001b[0m \u001b[43m    \u001b[49m\u001b[43mpassword\u001b[49m\u001b[38;5;241;43m=\u001b[39;49m\u001b[38;5;28;43;01mFalse\u001b[39;49;00m\u001b[43m,\u001b[49m\n\u001b[0;32m   1080\u001b[0m \u001b[43m\u001b[49m\u001b[43m)\u001b[49m\n",
      "File \u001b[1;32m~\\AppData\\Local\\Programs\\Python\\Python310\\lib\\site-packages\\ipykernel\\kernelbase.py:1120\u001b[0m, in \u001b[0;36mKernel._input_request\u001b[1;34m(self, prompt, ident, parent, password)\u001b[0m\n\u001b[0;32m   1117\u001b[0m             \u001b[38;5;28;01mbreak\u001b[39;00m\n\u001b[0;32m   1118\u001b[0m \u001b[38;5;28;01mexcept\u001b[39;00m \u001b[38;5;167;01mKeyboardInterrupt\u001b[39;00m:\n\u001b[0;32m   1119\u001b[0m     \u001b[38;5;66;03m# re-raise KeyboardInterrupt, to truncate traceback\u001b[39;00m\n\u001b[1;32m-> 1120\u001b[0m     \u001b[38;5;28;01mraise\u001b[39;00m \u001b[38;5;167;01mKeyboardInterrupt\u001b[39;00m(\u001b[38;5;124m\"\u001b[39m\u001b[38;5;124mInterrupted by user\u001b[39m\u001b[38;5;124m\"\u001b[39m) \u001b[38;5;28;01mfrom\u001b[39;00m \u001b[38;5;28mNone\u001b[39m\n\u001b[0;32m   1121\u001b[0m \u001b[38;5;28;01mexcept\u001b[39;00m \u001b[38;5;167;01mException\u001b[39;00m:\n\u001b[0;32m   1122\u001b[0m     \u001b[38;5;28mself\u001b[39m\u001b[38;5;241m.\u001b[39mlog\u001b[38;5;241m.\u001b[39mwarning(\u001b[38;5;124m\"\u001b[39m\u001b[38;5;124mInvalid Message:\u001b[39m\u001b[38;5;124m\"\u001b[39m, exc_info\u001b[38;5;241m=\u001b[39m\u001b[38;5;28;01mTrue\u001b[39;00m)\n",
      "\u001b[1;31mKeyboardInterrupt\u001b[0m: Interrupted by user"
     ]
    }
   ],
   "source": [
    "M ,N = map(int,input().split())\n",
    "M1 = np.array(input().split(),float)\n",
    "M2 = np.array(input().split(),float)\n",
    "\n",
    "print((np.add(M1,M2)).reshape(M,N).astype(int))\n",
    "print((np.subtract(M1,M2)).reshape(M,N).astype(int))\n",
    "print((np.multiply(M1,M2)).reshape(M,N).astype(int))\n",
    "print(((M1//M2)).reshape(M,N).astype(int))\n",
    "print((np.mod(M1,M2)).reshape(M,N).astype(int))\n",
    "print((np.power(M1,M2)).reshape(M,N).astype(int))\n"
   ]
  },
  {
   "cell_type": "code",
   "execution_count": 233,
   "id": "aad0b14c",
   "metadata": {},
   "outputs": [
    {
     "name": "stdout",
     "output_type": "stream",
     "text": [
      "1 4\n",
      "1 2 3 4\n",
      "5 6 7 8\n",
      "[[ 6  8 10 12]]\n",
      "[[-4 -4 -4 -4]]\n",
      "[[ 5 12 21 32]]\n",
      "[[0 0 0 0]]\n",
      "[[1 2 3 4]]\n",
      "[[    1    64  2187 65536]]\n"
     ]
    }
   ],
   "source": [
    "import numpy\n",
    "\n",
    "N, M = map(int, input().split())\n",
    "\n",
    "A = numpy.array([list(map(int, input().split())) for n in range(N)])\n",
    "B = numpy.array([list(map(int, input().split())) for n in range(N)])\n",
    "\n",
    "print(A + B)\n",
    "print(A - B)\n",
    "print(A * B)\n",
    "print(A // B)\n",
    "print(A % B)\n",
    "print(A ** B)"
   ]
  },
  {
   "cell_type": "code",
   "execution_count": 244,
   "id": "1f5b3b3e",
   "metadata": {},
   "outputs": [
    {
     "name": "stdout",
     "output_type": "stream",
     "text": [
      "1.1 2.2 3.3 4.4 5.5 6.6 7.7 8.8 9.9\n",
      "[1. 2. 3. 4. 5. 6. 7. 8. 9.]\n",
      "[ 2.  3.  4.  5.  6.  7.  8.  9. 10.]\n",
      "[ 1.  2.  3.  4.  6.  7.  8.  9. 10.]\n"
     ]
    }
   ],
   "source": [
    "arr = np.array(list(map(float,input().split())))\n",
    "print(np.floor(arr))\n",
    "print(np.ceil(arr))\n",
    "print(np.rint(arr))"
   ]
  },
  {
   "cell_type": "code",
   "execution_count": null,
   "id": "3ec6538f",
   "metadata": {},
   "outputs": [],
   "source": [
    "M,N = list(map(int,input().split()))\n",
    "Arr = np.array(list(map(int,input().split()))).reshape(M,N)\n",
    "Arr"
   ]
  },
  {
   "cell_type": "code",
   "execution_count": null,
   "id": "803c52fc",
   "metadata": {},
   "outputs": [],
   "source": []
  },
  {
   "cell_type": "code",
   "execution_count": null,
   "id": "9fa96e34",
   "metadata": {},
   "outputs": [],
   "source": []
  },
  {
   "cell_type": "code",
   "execution_count": 278,
   "id": "38ac20a9",
   "metadata": {},
   "outputs": [
    {
     "name": "stdout",
     "output_type": "stream",
     "text": [
      "4 4\n",
      "1 2 1 1\n",
      "1 2 1 1\n",
      "1 2 1 1\n",
      "1 2 1 1\n",
      "512\n"
     ]
    }
   ],
   "source": [
    "import numpy as np\n",
    "M,N = list(map(int,input().split()))\n",
    "lt = []\n",
    "for i in range (M):\n",
    "    Mi = numpy.array([list(map(int, input().split()))])\n",
    "    lt.append(Mi)\n",
    "st = sum(lt)\n",
    "print(np.prod(st))     "
   ]
  },
  {
   "cell_type": "code",
   "execution_count": 323,
   "id": "f0448c18",
   "metadata": {},
   "outputs": [
    {
     "name": "stdout",
     "output_type": "stream",
     "text": [
      "2 2\n",
      "1 2\n",
      "3 4\n",
      "2.0\n"
     ]
    }
   ],
   "source": [
    "lt =[]\n",
    "M,N = list(map(int,input().split()))\n",
    "for i in range (M):\n",
    "    lt.append(min(np.array(list(map(int,input().split())))))\n",
    "print(max(lt))"
   ]
  },
  {
   "cell_type": "code",
   "execution_count": null,
   "id": "9b28c787",
   "metadata": {},
   "outputs": [],
   "source": []
  },
  {
   "cell_type": "code",
   "execution_count": 335,
   "id": "e0217c88",
   "metadata": {},
   "outputs": [
    {
     "name": "stdout",
     "output_type": "stream",
     "text": [
      "2 2\n",
      "1 2\n",
      " 3 4\n",
      "[1.5 3.5]\n",
      "[1. 1.]\n",
      "1.118033988749895\n"
     ]
    }
   ],
   "source": [
    "lt =[]\n",
    "M,N = list(map(int,input().split()))\n",
    "for i in range (M):\n",
    "    lt.append(np.array(list(map(int,input().split()))))\n",
    "    np.array(lt)\n",
    "print(np.mean(lt,axis= 1))\n",
    "print(np.var(lt,axis= 0))\n",
    "print(round(np.std(lt,axis= None),11))"
   ]
  },
  {
   "cell_type": "code",
   "execution_count": 356,
   "id": "c5851df8",
   "metadata": {},
   "outputs": [
    {
     "name": "stdout",
     "output_type": "stream",
     "text": [
      "2\n",
      "1 2\n",
      "3 4\n",
      "1 2\n",
      "3 4\n"
     ]
    }
   ],
   "source": [
    "N =int(input())\n",
    "A =[]\n",
    "B =[]\n",
    "for i in range (N):\n",
    "    A.append(np.array(list(map(int,input().split()))))\n",
    "for i in range (N):\n",
    "    B.append(np.array(list(map(int,input().split()))))\n",
    "print(np.dot(A,B))"
   ]
  },
  {
   "cell_type": "code",
   "execution_count": 363,
   "id": "1238f40b",
   "metadata": {},
   "outputs": [
    {
     "name": "stdout",
     "output_type": "stream",
     "text": [
      "0 1\n",
      "2 3\n",
      "3\n",
      "[[0 0]\n",
      " [2 3]]\n"
     ]
    }
   ],
   "source": [
    "A =np.array(list(map(int,input().split())))\n",
    "B =np.array(list(map(int,input().split())))\n",
    "print(np.inner(A,B) )\n",
    "print(np.outer(A,B))"
   ]
  },
  {
   "cell_type": "code",
   "execution_count": 14,
   "id": "03283b5a",
   "metadata": {},
   "outputs": [
    {
     "name": "stdout",
     "output_type": "stream",
     "text": [
      "1 2 35 6 6 5 4 5 4 6 4 6 4 6 4 \n",
      "[ 4.  6.  4.  6.  4.  6.  4.  5.  4.  5.  6.  6. 35.  2.  1.]\n"
     ]
    }
   ],
   "source": [
    "import numpy\n",
    "\n",
    "def arrays(arr):\n",
    "    lst =list(map(int,arr))\n",
    "    lst.reverse()\n",
    "    result = numpy.array(lst,float)\n",
    "    return result\n",
    "arr = input().strip().split(' ')\n",
    "result = arrays(arr)\n",
    "print( result )"
   ]
  },
  {
   "cell_type": "code",
   "execution_count": 34,
   "id": "3b0fcea3",
   "metadata": {},
   "outputs": [
    {
     "name": "stdout",
     "output_type": "stream",
     "text": [
      "1 2 3 4 5 6 7 8 9 \n",
      "[[1 2 3]\n",
      " [4 5 6]\n",
      " [7 8 9]]\n"
     ]
    }
   ],
   "source": [
    "arr= np.array(list(map(int,input().split())))\n",
    "print(np.reshape(arr,(3,3)))            "
   ]
  },
  {
   "cell_type": "code",
   "execution_count": 43,
   "id": "f316455c",
   "metadata": {},
   "outputs": [
    {
     "name": "stdout",
     "output_type": "stream",
     "text": [
      "2 2\n",
      "1 2\n",
      "5 6\n",
      "[[1 5]\n",
      " [2 6]]\n",
      "[1 2 5 6]\n"
     ]
    }
   ],
   "source": [
    "lt =[]\n",
    "N,M= map(int,input().split())\n",
    "for i in range (N):\n",
    "    y =list(map(int,input().split()))\n",
    "    lt.append(y)\n",
    "    yy = np.array(lt)\n",
    "print(yy.transpose())\n",
    "print(yy.flatten())\n",
    "    \n",
    "    "
   ]
  },
  {
   "cell_type": "code",
   "execution_count": 74,
   "id": "a10e8142",
   "metadata": {},
   "outputs": [
    {
     "name": "stdout",
     "output_type": "stream",
     "text": [
      "4 3 2\n",
      "1 2\n",
      "1 2\n",
      "1 2\n",
      "1 2\n",
      "3 4\n",
      "3 4\n",
      "3 4\n"
     ]
    }
   ],
   "source": [
    "lt =[]\n",
    "N,M,P= map(int,input().split())\n",
    "for i in range (N):\n",
    "    y =list(map(int,input().split()))\n",
    "    lt.append(y)\n",
    "    y1 = np.array(lt)\n",
    "arr1 = np.reshape(y1,(N,P))\n",
    "lt =[]\n",
    "for i in range (M):\n",
    "    y0 =list(map(int,input().split()))\n",
    "    lt.append(y0)\n",
    "    y2 = np.array(lt)\n",
    "arr2 = np.reshape(y2,(M,P))\n",
    "\n",
    "print(np.concatenate( (arr1,arr2 ),axis = 0))"
   ]
  },
  {
   "cell_type": "code",
   "execution_count": 93,
   "id": "ab90cb43",
   "metadata": {
    "scrolled": true
   },
   "outputs": [
    {
     "name": "stdout",
     "output_type": "stream",
     "text": [
      "3 3 3\n",
      "[[[0 0 0]\n",
      "  [0 0 0]\n",
      "  [0 0 0]]\n",
      "\n",
      " [[0 0 0]\n",
      "  [0 0 0]\n",
      "  [0 0 0]]\n",
      "\n",
      " [[0 0 0]\n",
      "  [0 0 0]\n",
      "  [0 0 0]]]\n",
      "[[[1 1 1]\n",
      "  [1 1 1]\n",
      "  [1 1 1]]\n",
      "\n",
      " [[1 1 1]\n",
      "  [1 1 1]\n",
      "  [1 1 1]]\n",
      "\n",
      " [[1 1 1]\n",
      "  [1 1 1]\n",
      "  [1 1 1]]]\n"
     ]
    }
   ],
   "source": [
    "TP =tuple(map(int,input().split()))\n",
    "print(np.zeros((TP),dtype = int))\n",
    "print(np.ones((TP),dtype = int))"
   ]
  },
  {
   "cell_type": "markdown",
   "id": "b04c1dff",
   "metadata": {},
   "source": [
    "## Pulynomial as input "
   ]
  },
  {
   "cell_type": "code",
   "execution_count": 100,
   "id": "5d550b59",
   "metadata": {},
   "outputs": [
    {
     "name": "stdout",
     "output_type": "stream",
     "text": [
      "Enter a Polynomial: x**3 + x**2 + x + 1\n",
      "At wich position should the polynomial be evaluated: 4\n",
      "85.0\n"
     ]
    }
   ],
   "source": [
    "fx = input(\"Enter a Polynomial: \")\n",
    "x = float(input(\"At wich position should the polynomial be evaluated: \"))\n",
    "\n",
    "print(eval(fx.replace('x', str(x))))\n",
    "\n",
    "\n",
    "# Out put -\n",
    "# Enter a Polynomial: x**3 + x**2 + x + 1\n",
    "# At wich position should the polynomial be evaluated: 4\n",
    "# 85.0"
   ]
  },
  {
   "cell_type": "code",
   "execution_count": 101,
   "id": "24d0cdcb",
   "metadata": {},
   "outputs": [
    {
     "name": "stdout",
     "output_type": "stream",
     "text": [
      "1 4\n",
      "Enter a Polynomial: x**3 + x**2 + x + 1\n",
      "True\n"
     ]
    }
   ],
   "source": [
    "x,k = map(int,input().split())\n",
    "fx = input(\"Enter a Polynomial: \")\n",
    "if  eval(fx.replace('x', str(x))) == k:\n",
    "    print(True)\n",
    "else:\n",
    "    print(False)\n",
    "# 1 4\n",
    "# Enter a Polynomial: x**3 + x**2 + x + 1\n",
    "# True"
   ]
  },
  {
   "cell_type": "markdown",
   "id": "af35080d",
   "metadata": {},
   "source": [
    "### mathematics + string Computationals "
   ]
  },
  {
   "cell_type": "code",
   "execution_count": 104,
   "id": "65c705f1",
   "metadata": {},
   "outputs": [
    {
     "name": "stdout",
     "output_type": "stream",
     "text": [
      "2 + 5\n"
     ]
    },
    {
     "data": {
      "text/plain": [
       "7"
      ]
     },
     "execution_count": 104,
     "metadata": {},
     "output_type": "execute_result"
    }
   ],
   "source": [
    "var  =input()\n",
    "eval(var)\n",
    "#  input is  :print(2 + 3) or 2 + 3\n",
    "\n",
    "# output is  : 5"
   ]
  },
  {
   "cell_type": "code",
   "execution_count": 153,
   "id": "1f3514a9",
   "metadata": {},
   "outputs": [
    {
     "name": "stdout",
     "output_type": "stream",
     "text": [
      "5\n",
      "12 9 61 5 14\n",
      "True\n",
      "None\n"
     ]
    }
   ],
   "source": [
    "N = int(input())\n",
    "string = input()\n",
    "lst = list(map(int,string.split()))\n",
    "def palindrom(lst):\n",
    "    for i in range (N):\n",
    "        rev = ''.join(reversed(str(lst[i])))\n",
    "        if ( lst[i] >0 ) and (str(lst[i]) ==(rev)) :\n",
    "            ans ='x'\n",
    "\n",
    "    if ans =='x' :\n",
    "        print(True)\n",
    "    else :\n",
    "        print(False)\n",
    "    \n",
    "    return\n",
    "\n",
    "palindrom(lst)\n"
   ]
  },
  {
   "cell_type": "code",
   "execution_count": 163,
   "id": "e2a3b006",
   "metadata": {},
   "outputs": [
    {
     "ename": "SyntaxError",
     "evalue": "incomplete input (3679367823.py, line 6)",
     "output_type": "error",
     "traceback": [
      "\u001b[1;36m  Input \u001b[1;32mIn [163]\u001b[1;36m\u001b[0m\n\u001b[1;33m    \u001b[0m\n\u001b[1;37m    ^\u001b[0m\n\u001b[1;31mSyntaxError\u001b[0m\u001b[1;31m:\u001b[0m incomplete input\n"
     ]
    }
   ],
   "source": [
    "N = int(input())\n",
    "string = input()\n",
    "# lst = list(map(int,string.split()))\n",
    "rev = ''.join(reversed(str(string)))\n",
    "if (all(string)>0 and all(string)==rev):\n",
    "    "
   ]
  },
  {
   "cell_type": "code",
   "execution_count": 170,
   "id": "1fe3173d",
   "metadata": {},
   "outputs": [
    {
     "name": "stdout",
     "output_type": "stream",
     "text": [
      "2\n",
      "151 12\n"
     ]
    }
   ],
   "source": [
    "N =int(input())\n",
    "string =input()\n",
    "for i in string :\n",
    "    rev =''.join(reversed(i))\n",
    "    if all(string) >0 and all(string) ==rev:\n",
    "        print(True)"
   ]
  },
  {
   "cell_type": "code",
   "execution_count": 171,
   "id": "8b939abd",
   "metadata": {},
   "outputs": [
    {
     "name": "stdout",
     "output_type": "stream",
     "text": [
      "2\n"
     ]
    }
   ],
   "source": [
    "print(rev)"
   ]
  },
  {
   "cell_type": "code",
   "execution_count": null,
   "id": "a77534eb",
   "metadata": {},
   "outputs": [],
   "source": [
    "N = int(input())\n",
    "string = input()\n",
    "lst = list(map(int,string.split()))\n",
    "def palindrom(lst):\n",
    "    for i in range (N):\n",
    "        rev = ''.join(reversed(str(lst[i])))\n",
    "        if ( lst[i] >0 ) and (str(lst[i]) ==(rev)) :\n",
    "            ans ='x'\n",
    "\n",
    "    if ans =='x' :\n",
    "        print(True)\n",
    "    else :\n",
    "        print(False)\n",
    "    \n",
    "    return\n",
    "\n",
    "palindrom(lst)\n"
   ]
  },
  {
   "cell_type": "code",
   "execution_count": 174,
   "id": "a9e98aaf",
   "metadata": {},
   "outputs": [
    {
     "data": {
      "text/plain": [
       "array([[1., 0.],\n",
       "       [0., 1.]])"
      ]
     },
     "execution_count": 174,
     "metadata": {},
     "output_type": "execute_result"
    }
   ],
   "source": [
    "from scipy.linalg import expm\n",
    "expm(np.zeros((2,2)))"
   ]
  },
  {
   "cell_type": "code",
   "execution_count": 194,
   "id": "28f5c011",
   "metadata": {},
   "outputs": [
    {
     "data": {
      "text/plain": [
       "array([[nan, nan, nan, nan, nan, nan],\n",
       "       [nan, nan, nan, nan, nan, nan],\n",
       "       [nan, nan, nan, nan, nan, nan],\n",
       "       [nan, nan, nan, nan, nan, nan],\n",
       "       [nan, nan, nan, nan, nan, nan],\n",
       "       [nan, nan, nan, nan, nan, nan]])"
      ]
     },
     "execution_count": 194,
     "metadata": {},
     "output_type": "execute_result"
    }
   ],
   "source": [
    "M = 1.0e+11 *np.array( [[2.6847  , 1.0440   , 1.0440 ,        0 ,        0 ,        0],\n",
    "                    [1.0440  , 2.6847   , 1.0440 ,        0 ,        0 ,        0],\n",
    "                    [1.0440  , 1.0440   , 2.6847 ,        0 ,        0 ,        0],\n",
    "                    [     0  ,      0   ,      0 ,   0.8203 ,        0 ,        0],\n",
    "                    [     0  ,      0   ,      0 ,        0 ,   0.8203 ,        0],\n",
    "                    [     0  ,      0   ,      0 ,        0 ,        0 ,   0.8203] ])\n",
    "expm(M)"
   ]
  },
  {
   "cell_type": "code",
   "execution_count": 178,
   "id": "c54af131",
   "metadata": {},
   "outputs": [
    {
     "data": {
      "text/plain": [
       "array([[0., 0.],\n",
       "       [0., 0.]])"
      ]
     },
     "execution_count": 178,
     "metadata": {},
     "output_type": "execute_result"
    }
   ],
   "source": [
    "(np.zeros((2,2)))"
   ]
  },
  {
   "cell_type": "code",
   "execution_count": 199,
   "id": "ca532b34",
   "metadata": {},
   "outputs": [
    {
     "name": "stderr",
     "output_type": "stream",
     "text": [
      "C:\\Users\\HP\\AppData\\Local\\Temp\\ipykernel_156668\\2948774439.py:8: RuntimeWarning: overflow encountered in power\n",
      "  complexAnswer = e**M\n"
     ]
    }
   ],
   "source": [
    "import numpy as np\n",
    "\n",
    "a = np.array([ 1.97635114,  1.72790352,  1.51046621,  1.25543557,  1.01718594,\n",
    "               0.77378732,  0.53452001,  0.29627038,  0.05802074, -0.18022889,\n",
    "              -0.41847852] ,dtype= complex)\n",
    "e = -1.377404416\n",
    "\n",
    "complexAnswer = e**M\n",
    "realAnswer = complexAnswer.real"
   ]
  },
  {
   "cell_type": "code",
   "execution_count": 198,
   "id": "bbefd9c3",
   "metadata": {},
   "outputs": [
    {
     "data": {
      "text/plain": [
       "array([ 1.87773626,  1.14136618,  0.05332228, -1.03877969, -1.38298691,\n",
       "       -0.97102617, -0.12844   ,  0.65665457,  1.00187468,  0.79661763,\n",
       "        0.22154892])"
      ]
     },
     "execution_count": 198,
     "metadata": {},
     "output_type": "execute_result"
    }
   ],
   "source": [
    "realAnswer"
   ]
  },
  {
   "cell_type": "markdown",
   "id": "ed1837b9",
   "metadata": {},
   "source": [
    "## Python Object oriented Programmimg"
   ]
  },
  {
   "cell_type": "code",
   "execution_count": 11,
   "id": "4a6724e1",
   "metadata": {},
   "outputs": [
    {
     "name": "stdout",
     "output_type": "stream",
     "text": [
      "True\n",
      "False\n"
     ]
    }
   ],
   "source": [
    "class student():\n",
    "    def cheack_pass_fail(self) :\n",
    "        if self.marks >= 40 :\n",
    "            return True\n",
    "        else:\n",
    "            return False\n",
    "# object 1\n",
    "student1 = student()\n",
    "student1.name = 'Rudra'\n",
    "student1.marks = 85 \n",
    "# object 2\n",
    "student2 = student()\n",
    "student2.name = 'Arohi'\n",
    "student2.marks = 35 \n",
    "\n",
    "\n",
    "\n",
    "print(student1.cheack_pass_fail() )\n",
    "print(student2.cheack_pass_fail() )"
   ]
  },
  {
   "cell_type": "code",
   "execution_count": 16,
   "id": "4cf90912",
   "metadata": {},
   "outputs": [
    {
     "name": "stdout",
     "output_type": "stream",
     "text": [
      "Rudra 85\n",
      "Nisah 30\n"
     ]
    }
   ],
   "source": [
    "class student():\n",
    "    def cheack_pass_fail(self) :\n",
    "        if self.marks >= 40 :\n",
    "            return True\n",
    "        else:\n",
    "            return False\n",
    "    def __init__(self,name,mark) :\n",
    "        self.name = name\n",
    "        self.mark = mark\n",
    "        \n",
    "student1 = student('Rudra', 85)\n",
    "print(student1.name , student1.mark)\n",
    "student1 = student('Nisah', 30)\n",
    "print(student1.name , student1.mark)"
   ]
  },
  {
   "cell_type": "code",
   "execution_count": 19,
   "id": "a2a79f51",
   "metadata": {},
   "outputs": [
    {
     "name": "stdout",
     "output_type": "stream",
     "text": [
      "Weird\n"
     ]
    }
   ],
   "source": [
    "def odd_even(n):\n",
    "    if n%2 == 0 and(n>=2 and n<=5) :\n",
    "        print('Not Weird')\n",
    "    elif n%2 == 0 and(n>=6 and n<=20) :\n",
    "        print('Weird')\n",
    "    elif n%2 == 0 and n>20 :\n",
    "        print('Not Weird')\n",
    "    else :\n",
    "        print('Weird')\n",
    "odd_even(3)"
   ]
  },
  {
   "cell_type": "code",
   "execution_count": 36,
   "id": "3dee9432",
   "metadata": {},
   "outputs": [],
   "source": [
    "def arthematic(a,b):\n",
    "    sumation  = a+b \n",
    "    substraction = a-b \n",
    "    multiplication = a*b\n",
    "    print(sumation )\n",
    "    print(substraction )\n",
    "    print(multiplication )\n",
    "    return  \n"
   ]
  },
  {
   "cell_type": "code",
   "execution_count": 37,
   "id": "18f52245",
   "metadata": {},
   "outputs": [
    {
     "name": "stdout",
     "output_type": "stream",
     "text": [
      "9\n",
      "-1\n",
      "20\n"
     ]
    }
   ],
   "source": [
    "arthematic(4,5)"
   ]
  },
  {
   "cell_type": "code",
   "execution_count": 39,
   "id": "58a444cb",
   "metadata": {},
   "outputs": [],
   "source": [
    "def division(a,b):\n",
    "    int_div  = a//b \n",
    "    float_div = a/b \n",
    "    print(int_div )\n",
    "    print(float_div )\n",
    "    return  \n",
    "division(a,b)"
   ]
  },
  {
   "cell_type": "code",
   "execution_count": 41,
   "id": "979901e2",
   "metadata": {},
   "outputs": [
    {
     "name": "stdout",
     "output_type": "stream",
     "text": [
      "0\n",
      "0.6\n"
     ]
    }
   ],
   "source": [
    "division(3,5)"
   ]
  },
  {
   "cell_type": "code",
   "execution_count": 44,
   "id": "b8e74212",
   "metadata": {},
   "outputs": [
    {
     "name": "stdout",
     "output_type": "stream",
     "text": [
      "0\n",
      "1\n",
      "4\n"
     ]
    }
   ],
   "source": [
    "def loop(n):\n",
    "    if n>0:\n",
    "        for i in range  (n):\n",
    "            print(i**2)\n",
    "loop(n)"
   ]
  },
  {
   "cell_type": "code",
   "execution_count": null,
   "id": "99dc9588",
   "metadata": {},
   "outputs": [],
   "source": [
    "def is_leap(year):\n",
    "    leap = False\n",
    "    \n",
    "    # Write your logic here\n",
    "    \n",
    "    return leap"
   ]
  },
  {
   "cell_type": "code",
   "execution_count": 98,
   "id": "58965430",
   "metadata": {},
   "outputs": [
    {
     "data": {
      "text/plain": [
       "False"
      ]
     },
     "execution_count": 98,
     "metadata": {},
     "output_type": "execute_result"
    }
   ],
   "source": [
    "def is_leap(year):\n",
    "    if (year%4==0 and year%400 == 0) :\n",
    "        leap = True\n",
    "    elif year%100 == 0:\n",
    "        leap = False\n",
    "    return leap\n",
    "is_leap(2500)"
   ]
  },
  {
   "cell_type": "code",
   "execution_count": 161,
   "id": "8bb59a7d",
   "metadata": {},
   "outputs": [],
   "source": [
    "x,y,z,n = 1,1,1,2\n",
    "def itration(x,y,z,n) :\n",
    "    list_1 = [x,y,z]\n",
    "    list2 =[]\n",
    "    for i in range (x+1):\n",
    "        for j in range (y+1):\n",
    "            for k in range (z+1):\n",
    "                if i+j+k !=2 :\n",
    "                    list2.append([i,j,k])\n",
    "    return list2   \n",
    "itration(x,y,z,n)"
   ]
  },
  {
   "cell_type": "code",
   "execution_count": 162,
   "id": "f4b9d326",
   "metadata": {},
   "outputs": [
    {
     "data": {
      "text/plain": [
       "[[0, 0, 0], [0, 0, 1], [0, 1, 0], [1, 0, 0], [1, 1, 1]]"
      ]
     },
     "execution_count": 162,
     "metadata": {},
     "output_type": "execute_result"
    }
   ],
   "source": [
    "itration(x,y,z,n)"
   ]
  },
  {
   "cell_type": "code",
   "execution_count": 154,
   "id": "32bf5bc1",
   "metadata": {},
   "outputs": [
    {
     "data": {
      "text/plain": [
       "21"
      ]
     },
     "execution_count": 154,
     "metadata": {},
     "output_type": "execute_result"
    }
   ],
   "source": [
    "len([[0, 0, 0], [0, 0, 1], [0, 1, 0], [0, 1, 2], [0, 2, 1], [0, 2, 2], [1, 0, 0], [1, 0, 2], [1, 1, 1], [1, 1, 2], [1, 2, 0], [1, 2, 1], [1, 2, 2], [2, 0, 1], [2, 0, 2], [2, 1, 0], [2, 1, 1], [2, 1, 2], [2, 2, 0], [2, 2, 1], [2, 2, 2]])"
   ]
  },
  {
   "cell_type": "code",
   "execution_count": 168,
   "id": "51011317",
   "metadata": {},
   "outputs": [
    {
     "name": "stdout",
     "output_type": "stream",
     "text": [
      "1\n",
      "2\n",
      "2\n",
      "3\n"
     ]
    },
    {
     "data": {
      "text/plain": [
       "[[0, 0, 0],\n",
       " [0, 0, 1],\n",
       " [0, 0, 2],\n",
       " [0, 1, 0],\n",
       " [0, 1, 1],\n",
       " [0, 1, 2],\n",
       " [0, 2, 0],\n",
       " [0, 2, 1],\n",
       " [0, 2, 2],\n",
       " [1, 0, 0],\n",
       " [1, 0, 1],\n",
       " [1, 0, 2],\n",
       " [1, 1, 0],\n",
       " [1, 1, 1],\n",
       " [1, 1, 2],\n",
       " [1, 2, 0],\n",
       " [1, 2, 1],\n",
       " [1, 2, 2]]"
      ]
     },
     "execution_count": 168,
     "metadata": {},
     "output_type": "execute_result"
    }
   ],
   "source": [
    "x = int(input())\n",
    "y = int(input())\n",
    "z = int(input())\n",
    "n = int(input())\n",
    "def itration(x,y,z,n) :\n",
    "    list2 =[]\n",
    "    \n",
    "    for i in range (x+1):\n",
    "        for j in range (y+1):\n",
    "            for k in range (z+1):\n",
    "                if x+y+z !=n:\n",
    "                    list2.append([i,j,k])\n",
    "    return list2   \n",
    "itration(x,y,z,n)     "
   ]
  },
  {
   "cell_type": "code",
   "execution_count": null,
   "id": "cef2c944",
   "metadata": {},
   "outputs": [],
   "source": []
  }
 ],
 "metadata": {
  "kernelspec": {
   "display_name": "Python 3 (ipykernel)",
   "language": "python",
   "name": "python3"
  },
  "language_info": {
   "codemirror_mode": {
    "name": "ipython",
    "version": 3
   },
   "file_extension": ".py",
   "mimetype": "text/x-python",
   "name": "python",
   "nbconvert_exporter": "python",
   "pygments_lexer": "ipython3",
   "version": "3.10.2"
  }
 },
 "nbformat": 4,
 "nbformat_minor": 5
}
