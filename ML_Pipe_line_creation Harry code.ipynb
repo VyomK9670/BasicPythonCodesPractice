{
 "cells": [
  {
   "cell_type": "markdown",
   "id": "c48b5797",
   "metadata": {},
   "source": [
    "### Above method use when we apply mean,medain,more_frequent at place of NaN ,but some how we intrested to \n",
    "\n",
    "### make it individual fill like some where mean ,or median ,or some where more_ftrequent so we will apply the followig format\n"
   ]
  },
  {
   "cell_type": "markdown",
   "id": "1531f0e3",
   "metadata": {},
   "source": [
    "# Here we will use the Different Vaiables Using -\n",
    "## 1) SimpleInputer\n",
    "## 2) Pipeline\n",
    "## 3) Column transformer"
   ]
  },
  {
   "cell_type": "code",
   "execution_count": 1,
   "id": "fc5a27cb",
   "metadata": {},
   "outputs": [],
   "source": [
    "import numpy as np\n",
    "import pandas as pd\n",
    "from sklearn.impute import SimpleImputer\n",
    "from sklearn.compose import ColumnTransformer\n",
    "from sklearn.pipeline import Pipeline"
   ]
  },
  {
   "cell_type": "code",
   "execution_count": 2,
   "id": "0493c70a",
   "metadata": {},
   "outputs": [
    {
     "name": "stdout",
     "output_type": "stream",
     "text": [
      "Train data set :  (1460, 81)\n",
      "Test Data set  :  (1460, 81)\n"
     ]
    }
   ],
   "source": [
    "dv_link = r\"https://drive.google.com/file/d/1Al8t5j84VkisJOLzckfnxDmEKK7muT6p/view?usp=sharing\"\n",
    "pd_link = 'https://drive.google.com/uc?id='+dv_link.split('/')[-2]\n",
    "train = pd.read_csv(pd_link)\n",
    "test = pd.read_csv(pd_link)\n",
    "print('Train data set : ',train.shape)\n",
    "print('Test Data set  : ',test.shape)"
   ]
  },
  {
   "cell_type": "code",
   "execution_count": 3,
   "id": "feab47ba",
   "metadata": {},
   "outputs": [],
   "source": [
    "X_train = train.drop(columns = 'SalePrice' , axis = 1)\n",
    "y_train = train['SalePrice']\n",
    "X_test = test.copy()"
   ]
  },
  {
   "cell_type": "code",
   "execution_count": 4,
   "id": "1b797ff5",
   "metadata": {},
   "outputs": [
    {
     "name": "stdout",
     "output_type": "stream",
     "text": [
      "(1460, 80)\n",
      "(1460,)\n",
      "(1460, 81)\n"
     ]
    }
   ],
   "source": [
    "print(X_train.shape)\n",
    "print(y_train.shape)\n",
    "print(X_test.shape)"
   ]
  },
  {
   "cell_type": "markdown",
   "id": "8359f068",
   "metadata": {},
   "source": [
    "## 2) Imputation of missing value"
   ]
  },
  {
   "cell_type": "code",
   "execution_count": null,
   "id": "da8fb617",
   "metadata": {},
   "outputs": [],
   "source": [
    "# TO check in how many place data is missing"
   ]
  },
  {
   "cell_type": "code",
   "execution_count": 10,
   "id": "a4ab5ede",
   "metadata": {},
   "outputs": [
    {
     "data": {
      "text/plain": [
       "Id                 0\n",
       "MSSubClass         0\n",
       "MSZoning           0\n",
       "LotFrontage      259\n",
       "LotArea            0\n",
       "                ... \n",
       "MiscVal            0\n",
       "MoSold             0\n",
       "YrSold             0\n",
       "SaleType           0\n",
       "SaleCondition      0\n",
       "Length: 80, dtype: int64"
      ]
     },
     "execution_count": 10,
     "metadata": {},
     "output_type": "execute_result"
    }
   ],
   "source": [
    "X_train.isnull().sum()"
   ]
  },
  {
   "cell_type": "code",
   "execution_count": null,
   "id": "afe4ad70",
   "metadata": {},
   "outputs": [],
   "source": [
    "num_vars= X_train.select_dtypes(include = ['int64','float64']).columns\n",
    "num_var_miss = [var for var in num_vars is ]"
   ]
  },
  {
   "cell_type": "code",
   "execution_count": null,
   "id": "028380d8",
   "metadata": {},
   "outputs": [],
   "source": []
  },
  {
   "cell_type": "code",
   "execution_count": null,
   "id": "7b0cf277",
   "metadata": {},
   "outputs": [],
   "source": []
  },
  {
   "cell_type": "code",
   "execution_count": null,
   "id": "b2369a39",
   "metadata": {},
   "outputs": [],
   "source": []
  },
  {
   "cell_type": "code",
   "execution_count": null,
   "id": "ff945778",
   "metadata": {},
   "outputs": [],
   "source": []
  },
  {
   "cell_type": "code",
   "execution_count": null,
   "id": "70650bcc",
   "metadata": {},
   "outputs": [],
   "source": []
  },
  {
   "cell_type": "code",
   "execution_count": null,
   "id": "33f2ff6a",
   "metadata": {},
   "outputs": [],
   "source": []
  },
  {
   "cell_type": "code",
   "execution_count": null,
   "id": "e2d9b30d",
   "metadata": {},
   "outputs": [],
   "source": []
  },
  {
   "cell_type": "code",
   "execution_count": null,
   "id": "3cf8b1a4",
   "metadata": {},
   "outputs": [],
   "source": []
  },
  {
   "cell_type": "code",
   "execution_count": null,
   "id": "2edd8575",
   "metadata": {},
   "outputs": [],
   "source": []
  },
  {
   "cell_type": "code",
   "execution_count": null,
   "id": "d17dc064",
   "metadata": {},
   "outputs": [],
   "source": []
  },
  {
   "cell_type": "code",
   "execution_count": null,
   "id": "a68260ed",
   "metadata": {},
   "outputs": [],
   "source": []
  }
 ],
 "metadata": {
  "kernelspec": {
   "display_name": "Python 3 (ipykernel)",
   "language": "python",
   "name": "python3"
  },
  "language_info": {
   "codemirror_mode": {
    "name": "ipython",
    "version": 3
   },
   "file_extension": ".py",
   "mimetype": "text/x-python",
   "name": "python",
   "nbconvert_exporter": "python",
   "pygments_lexer": "ipython3",
   "version": "3.10.2"
  }
 },
 "nbformat": 4,
 "nbformat_minor": 5
}
